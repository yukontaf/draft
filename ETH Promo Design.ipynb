{
 "cells": [
  {
   "cell_type": "code",
   "execution_count": 1,
   "id": "initial_id",
   "metadata": {
    "collapsed": true,
    "jupyter": {
     "outputs_hidden": true
    },
    "ExecuteTime": {
     "end_time": "2024-03-22T05:43:37.008158Z",
     "start_time": "2024-03-22T05:43:36.101959Z"
    }
   },
   "outputs": [],
   "source": [
    "import warnings\n",
    "\n",
    "import pandas as pd\n",
    "import pandas_gbq as gbq\n",
    "import seaborn as sns\n",
    "from google.cloud import bigquery\n",
    "\n",
    "client = bigquery.Client()\n",
    "\n",
    "warnings.filterwarnings(\"ignore\")\n",
    "\n",
    "# %matplotlib inline\n",
    "# %config InlineBackend.figure_format = 'retina'\n",
    "\n",
    "pal = [\n",
    "    \"#be0707\",\n",
    "    \"#dc3248\",\n",
    "    \"#ef5a80\",\n",
    "    \"#f982b2\",\n",
    "    \"#fca9dd\",\n",
    "    \"#ffcfff\",\n",
    "    \"#eebdfb\",\n",
    "    \"#daacf9\",\n",
    "    \"#c19cf8\",\n",
    "    \"#a48ef7\",\n",
    "    \"#7e82f7\",\n",
    "]\n",
    "\n",
    "sns.set_theme(style=\"white\", palette=pal, rc={\"figure.figsize\": (6, 4)})\n",
    "\n",
    "from google.cloud import bigquery\n",
    "\n",
    "project = \"analytics-147612\"\n",
    "location = \"EU\"\n",
    "client = bigquery.Client(project=project, location=location)\n",
    "\n",
    "\n",
    "def table_reference(dataset, table):\n",
    "    return f\"{project}.{dataset}.{table}\"\n",
    "\n",
    "\n",
    "def get_table_fields(dataset, table):\n",
    "    table_ref = client.get_table(table_reference(dataset, table))\n",
    "    with open(f\"/Users/gsokolov/Documents/{table}_fields.txt\", \"w\") as f:\n",
    "        data = {\n",
    "            \"table_name\": table_reference(dataset, table),\n",
    "            \"fields\": [field.name for field in table_ref.schema],\n",
    "        }\n",
    "        f.write(f\"{data}\")\n",
    "    return print(data)"
   ]
  },
  {
   "cell_type": "code",
   "execution_count": 2,
   "id": "e2f55c7f4f711e1c",
   "metadata": {
    "collapsed": false,
    "ExecuteTime": {
     "end_time": "2024-03-22T05:43:50.514312Z",
     "start_time": "2024-03-22T05:43:43.131478Z"
    }
   },
   "outputs": [
    {
     "ename": "GenericGBQException",
     "evalue": "Reason: 404 POST https://bigquery.googleapis.com/upload/bigquery/v2/projects/analytics-147612/jobs?uploadType=multipart: Not found: Dataset analytics-147612:dbt_gsokolov",
     "output_type": "error",
     "traceback": [
      "\u001B[0;31m---------------------------------------------------------------------------\u001B[0m",
      "\u001B[0;31mInvalidResponse\u001B[0m                           Traceback (most recent call last)",
      "File \u001B[0;32m~/anaconda3/lib/python3.11/site-packages/google/cloud/bigquery/client.py:2500\u001B[0m, in \u001B[0;36mClient.load_table_from_file\u001B[0;34m(self, file_obj, destination, rewind, size, num_retries, job_id, job_id_prefix, location, project, job_config, timeout)\u001B[0m\n\u001B[1;32m   2499\u001B[0m     \u001B[38;5;28;01melse\u001B[39;00m:\n\u001B[0;32m-> 2500\u001B[0m         response \u001B[38;5;241m=\u001B[39m \u001B[38;5;28mself\u001B[39m\u001B[38;5;241m.\u001B[39m_do_multipart_upload(\n\u001B[1;32m   2501\u001B[0m             file_obj, job_resource, size, num_retries, timeout, project\u001B[38;5;241m=\u001B[39mproject\n\u001B[1;32m   2502\u001B[0m         )\n\u001B[1;32m   2503\u001B[0m \u001B[38;5;28;01mexcept\u001B[39;00m resumable_media\u001B[38;5;241m.\u001B[39mInvalidResponse \u001B[38;5;28;01mas\u001B[39;00m exc:\n",
      "File \u001B[0;32m~/anaconda3/lib/python3.11/site-packages/google/cloud/bigquery/client.py:3069\u001B[0m, in \u001B[0;36mClient._do_multipart_upload\u001B[0;34m(self, stream, metadata, size, num_retries, timeout, project)\u001B[0m\n\u001B[1;32m   3065\u001B[0m     upload\u001B[38;5;241m.\u001B[39m_retry_strategy \u001B[38;5;241m=\u001B[39m resumable_media\u001B[38;5;241m.\u001B[39mRetryStrategy(\n\u001B[1;32m   3066\u001B[0m         max_retries\u001B[38;5;241m=\u001B[39mnum_retries\n\u001B[1;32m   3067\u001B[0m     )\n\u001B[0;32m-> 3069\u001B[0m response \u001B[38;5;241m=\u001B[39m upload\u001B[38;5;241m.\u001B[39mtransmit(\n\u001B[1;32m   3070\u001B[0m     \u001B[38;5;28mself\u001B[39m\u001B[38;5;241m.\u001B[39m_http, data, metadata, _GENERIC_CONTENT_TYPE, timeout\u001B[38;5;241m=\u001B[39mtimeout\n\u001B[1;32m   3071\u001B[0m )\n\u001B[1;32m   3073\u001B[0m \u001B[38;5;28;01mreturn\u001B[39;00m response\n",
      "File \u001B[0;32m~/anaconda3/lib/python3.11/site-packages/google/resumable_media/requests/upload.py:153\u001B[0m, in \u001B[0;36mMultipartUpload.transmit\u001B[0;34m(self, transport, data, metadata, content_type, timeout)\u001B[0m\n\u001B[1;32m    151\u001B[0m     \u001B[38;5;28;01mreturn\u001B[39;00m result\n\u001B[0;32m--> 153\u001B[0m \u001B[38;5;28;01mreturn\u001B[39;00m _request_helpers\u001B[38;5;241m.\u001B[39mwait_and_retry(\n\u001B[1;32m    154\u001B[0m     retriable_request, \u001B[38;5;28mself\u001B[39m\u001B[38;5;241m.\u001B[39m_get_status_code, \u001B[38;5;28mself\u001B[39m\u001B[38;5;241m.\u001B[39m_retry_strategy\n\u001B[1;32m    155\u001B[0m )\n",
      "File \u001B[0;32m~/anaconda3/lib/python3.11/site-packages/google/resumable_media/requests/_request_helpers.py:155\u001B[0m, in \u001B[0;36mwait_and_retry\u001B[0;34m(func, get_status_code, retry_strategy)\u001B[0m\n\u001B[1;32m    154\u001B[0m \u001B[38;5;28;01mtry\u001B[39;00m:\n\u001B[0;32m--> 155\u001B[0m     response \u001B[38;5;241m=\u001B[39m func()\n\u001B[1;32m    156\u001B[0m \u001B[38;5;28;01mexcept\u001B[39;00m _CONNECTION_ERROR_CLASSES \u001B[38;5;28;01mas\u001B[39;00m e:\n",
      "File \u001B[0;32m~/anaconda3/lib/python3.11/site-packages/google/resumable_media/requests/upload.py:149\u001B[0m, in \u001B[0;36mMultipartUpload.transmit.<locals>.retriable_request\u001B[0;34m()\u001B[0m\n\u001B[1;32m    145\u001B[0m result \u001B[38;5;241m=\u001B[39m transport\u001B[38;5;241m.\u001B[39mrequest(\n\u001B[1;32m    146\u001B[0m     method, url, data\u001B[38;5;241m=\u001B[39mpayload, headers\u001B[38;5;241m=\u001B[39mheaders, timeout\u001B[38;5;241m=\u001B[39mtimeout\n\u001B[1;32m    147\u001B[0m )\n\u001B[0;32m--> 149\u001B[0m \u001B[38;5;28mself\u001B[39m\u001B[38;5;241m.\u001B[39m_process_response(result)\n\u001B[1;32m    151\u001B[0m \u001B[38;5;28;01mreturn\u001B[39;00m result\n",
      "File \u001B[0;32m~/anaconda3/lib/python3.11/site-packages/google/resumable_media/_upload.py:125\u001B[0m, in \u001B[0;36mUploadBase._process_response\u001B[0;34m(self, response)\u001B[0m\n\u001B[1;32m    124\u001B[0m \u001B[38;5;28mself\u001B[39m\u001B[38;5;241m.\u001B[39m_finished \u001B[38;5;241m=\u001B[39m \u001B[38;5;28;01mTrue\u001B[39;00m\n\u001B[0;32m--> 125\u001B[0m _helpers\u001B[38;5;241m.\u001B[39mrequire_status_code(response, (http\u001B[38;5;241m.\u001B[39mclient\u001B[38;5;241m.\u001B[39mOK,), \u001B[38;5;28mself\u001B[39m\u001B[38;5;241m.\u001B[39m_get_status_code)\n",
      "File \u001B[0;32m~/anaconda3/lib/python3.11/site-packages/google/resumable_media/_helpers.py:108\u001B[0m, in \u001B[0;36mrequire_status_code\u001B[0;34m(response, status_codes, get_status_code, callback)\u001B[0m\n\u001B[1;32m    107\u001B[0m         callback()\n\u001B[0;32m--> 108\u001B[0m     \u001B[38;5;28;01mraise\u001B[39;00m common\u001B[38;5;241m.\u001B[39mInvalidResponse(\n\u001B[1;32m    109\u001B[0m         response,\n\u001B[1;32m    110\u001B[0m         \u001B[38;5;124m\"\u001B[39m\u001B[38;5;124mRequest failed with status code\u001B[39m\u001B[38;5;124m\"\u001B[39m,\n\u001B[1;32m    111\u001B[0m         status_code,\n\u001B[1;32m    112\u001B[0m         \u001B[38;5;124m\"\u001B[39m\u001B[38;5;124mExpected one of\u001B[39m\u001B[38;5;124m\"\u001B[39m,\n\u001B[1;32m    113\u001B[0m         \u001B[38;5;241m*\u001B[39mstatus_codes\n\u001B[1;32m    114\u001B[0m     )\n\u001B[1;32m    115\u001B[0m \u001B[38;5;28;01mreturn\u001B[39;00m status_code\n",
      "\u001B[0;31mInvalidResponse\u001B[0m: ('Request failed with status code', 404, 'Expected one of', <HTTPStatus.OK: 200>)",
      "\nDuring handling of the above exception, another exception occurred:\n",
      "\u001B[0;31mNotFound\u001B[0m                                  Traceback (most recent call last)",
      "File \u001B[0;32m~/anaconda3/lib/python3.11/site-packages/pandas_gbq/gbq.py:501\u001B[0m, in \u001B[0;36mGbqConnector.load_data\u001B[0;34m(self, dataframe, destination_table_ref, write_disposition, chunksize, schema, progress_bar, api_method, billing_project)\u001B[0m\n\u001B[1;32m    500\u001B[0m \u001B[38;5;28;01mtry\u001B[39;00m:\n\u001B[0;32m--> 501\u001B[0m     chunks \u001B[38;5;241m=\u001B[39m load\u001B[38;5;241m.\u001B[39mload_chunks(\n\u001B[1;32m    502\u001B[0m         \u001B[38;5;28mself\u001B[39m\u001B[38;5;241m.\u001B[39mclient,\n\u001B[1;32m    503\u001B[0m         dataframe,\n\u001B[1;32m    504\u001B[0m         destination_table_ref,\n\u001B[1;32m    505\u001B[0m         chunksize\u001B[38;5;241m=\u001B[39mchunksize,\n\u001B[1;32m    506\u001B[0m         schema\u001B[38;5;241m=\u001B[39mschema,\n\u001B[1;32m    507\u001B[0m         location\u001B[38;5;241m=\u001B[39m\u001B[38;5;28mself\u001B[39m\u001B[38;5;241m.\u001B[39mlocation,\n\u001B[1;32m    508\u001B[0m         api_method\u001B[38;5;241m=\u001B[39mapi_method,\n\u001B[1;32m    509\u001B[0m         write_disposition\u001B[38;5;241m=\u001B[39mwrite_disposition,\n\u001B[1;32m    510\u001B[0m         billing_project\u001B[38;5;241m=\u001B[39mbilling_project,\n\u001B[1;32m    511\u001B[0m     )\n\u001B[1;32m    512\u001B[0m     \u001B[38;5;28;01mif\u001B[39;00m progress_bar \u001B[38;5;129;01mand\u001B[39;00m tqdm:\n",
      "File \u001B[0;32m~/anaconda3/lib/python3.11/site-packages/pandas_gbq/load.py:242\u001B[0m, in \u001B[0;36mload_chunks\u001B[0;34m(client, dataframe, destination_table_ref, chunksize, schema, location, api_method, write_disposition, billing_project)\u001B[0m\n\u001B[1;32m    241\u001B[0m \u001B[38;5;28;01mif\u001B[39;00m api_method \u001B[38;5;241m==\u001B[39m \u001B[38;5;124m\"\u001B[39m\u001B[38;5;124mload_parquet\u001B[39m\u001B[38;5;124m\"\u001B[39m:\n\u001B[0;32m--> 242\u001B[0m     load_parquet(\n\u001B[1;32m    243\u001B[0m         client,\n\u001B[1;32m    244\u001B[0m         dataframe,\n\u001B[1;32m    245\u001B[0m         destination_table_ref,\n\u001B[1;32m    246\u001B[0m         write_disposition,\n\u001B[1;32m    247\u001B[0m         location,\n\u001B[1;32m    248\u001B[0m         schema,\n\u001B[1;32m    249\u001B[0m         billing_project\u001B[38;5;241m=\u001B[39mbilling_project,\n\u001B[1;32m    250\u001B[0m     )\n\u001B[1;32m    251\u001B[0m     \u001B[38;5;66;03m# TODO: yield progress depending on result() with timeout\u001B[39;00m\n",
      "File \u001B[0;32m~/anaconda3/lib/python3.11/site-packages/pandas_gbq/load.py:130\u001B[0m, in \u001B[0;36mload_parquet\u001B[0;34m(client, dataframe, destination_table_ref, write_disposition, location, schema, billing_project)\u001B[0m\n\u001B[1;32m    129\u001B[0m \u001B[38;5;28;01mtry\u001B[39;00m:\n\u001B[0;32m--> 130\u001B[0m     client\u001B[38;5;241m.\u001B[39mload_table_from_dataframe(\n\u001B[1;32m    131\u001B[0m         dataframe,\n\u001B[1;32m    132\u001B[0m         destination_table_ref,\n\u001B[1;32m    133\u001B[0m         job_config\u001B[38;5;241m=\u001B[39mjob_config,\n\u001B[1;32m    134\u001B[0m         location\u001B[38;5;241m=\u001B[39mlocation,\n\u001B[1;32m    135\u001B[0m         project\u001B[38;5;241m=\u001B[39mbilling_project,\n\u001B[1;32m    136\u001B[0m     )\u001B[38;5;241m.\u001B[39mresult()\n\u001B[1;32m    137\u001B[0m \u001B[38;5;28;01mexcept\u001B[39;00m pyarrow\u001B[38;5;241m.\u001B[39mlib\u001B[38;5;241m.\u001B[39mArrowInvalid \u001B[38;5;28;01mas\u001B[39;00m exc:\n",
      "File \u001B[0;32m~/anaconda3/lib/python3.11/site-packages/google/cloud/bigquery/client.py:2736\u001B[0m, in \u001B[0;36mClient.load_table_from_dataframe\u001B[0;34m(self, dataframe, destination, num_retries, job_id, job_id_prefix, location, project, job_config, parquet_compression, timeout)\u001B[0m\n\u001B[1;32m   2735\u001B[0m         file_size \u001B[38;5;241m=\u001B[39m os\u001B[38;5;241m.\u001B[39mpath\u001B[38;5;241m.\u001B[39mgetsize(tmppath)\n\u001B[0;32m-> 2736\u001B[0m         \u001B[38;5;28;01mreturn\u001B[39;00m \u001B[38;5;28mself\u001B[39m\u001B[38;5;241m.\u001B[39mload_table_from_file(\n\u001B[1;32m   2737\u001B[0m             tmpfile,\n\u001B[1;32m   2738\u001B[0m             destination,\n\u001B[1;32m   2739\u001B[0m             num_retries\u001B[38;5;241m=\u001B[39mnum_retries,\n\u001B[1;32m   2740\u001B[0m             rewind\u001B[38;5;241m=\u001B[39m\u001B[38;5;28;01mTrue\u001B[39;00m,\n\u001B[1;32m   2741\u001B[0m             size\u001B[38;5;241m=\u001B[39mfile_size,\n\u001B[1;32m   2742\u001B[0m             job_id\u001B[38;5;241m=\u001B[39mjob_id,\n\u001B[1;32m   2743\u001B[0m             job_id_prefix\u001B[38;5;241m=\u001B[39mjob_id_prefix,\n\u001B[1;32m   2744\u001B[0m             location\u001B[38;5;241m=\u001B[39mlocation,\n\u001B[1;32m   2745\u001B[0m             project\u001B[38;5;241m=\u001B[39mproject,\n\u001B[1;32m   2746\u001B[0m             job_config\u001B[38;5;241m=\u001B[39mnew_job_config,\n\u001B[1;32m   2747\u001B[0m             timeout\u001B[38;5;241m=\u001B[39mtimeout,\n\u001B[1;32m   2748\u001B[0m         )\n\u001B[1;32m   2750\u001B[0m \u001B[38;5;28;01mfinally\u001B[39;00m:\n",
      "File \u001B[0;32m~/anaconda3/lib/python3.11/site-packages/google/cloud/bigquery/client.py:2504\u001B[0m, in \u001B[0;36mClient.load_table_from_file\u001B[0;34m(self, file_obj, destination, rewind, size, num_retries, job_id, job_id_prefix, location, project, job_config, timeout)\u001B[0m\n\u001B[1;32m   2503\u001B[0m \u001B[38;5;28;01mexcept\u001B[39;00m resumable_media\u001B[38;5;241m.\u001B[39mInvalidResponse \u001B[38;5;28;01mas\u001B[39;00m exc:\n\u001B[0;32m-> 2504\u001B[0m     \u001B[38;5;28;01mraise\u001B[39;00m exceptions\u001B[38;5;241m.\u001B[39mfrom_http_response(exc\u001B[38;5;241m.\u001B[39mresponse)\n\u001B[1;32m   2506\u001B[0m \u001B[38;5;28;01mreturn\u001B[39;00m typing\u001B[38;5;241m.\u001B[39mcast(LoadJob, \u001B[38;5;28mself\u001B[39m\u001B[38;5;241m.\u001B[39mjob_from_resource(response\u001B[38;5;241m.\u001B[39mjson()))\n",
      "\u001B[0;31mNotFound\u001B[0m: 404 POST https://bigquery.googleapis.com/upload/bigquery/v2/projects/analytics-147612/jobs?uploadType=multipart: Not found: Dataset analytics-147612:dbt_gsokolov",
      "\nThe above exception was the direct cause of the following exception:\n",
      "\u001B[0;31mGenericGBQException\u001B[0m                       Traceback (most recent call last)",
      "Cell \u001B[0;32mIn[2], line 4\u001B[0m\n\u001B[1;32m      1\u001B[0m user_ids \u001B[38;5;241m=\u001B[39m pd\u001B[38;5;241m.\u001B[39mread_csv(\n\u001B[1;32m      2\u001B[0m     \u001B[38;5;124m\"\u001B[39m\u001B[38;5;124m/Users/gsokolov/Library/CloudStorage/GoogleDrive-gsokolov@ourgapps.com/My Drive/Exported Data/ETH_recom_280224.csv\u001B[39m\u001B[38;5;124m\"\u001B[39m\n\u001B[1;32m      3\u001B[0m )\n\u001B[0;32m----> 4\u001B[0m user_ids\u001B[38;5;241m.\u001B[39mto_gbq(\n\u001B[1;32m      5\u001B[0m     \u001B[38;5;124m\"\u001B[39m\u001B[38;5;124mdbt_gsokolov.eth_recom\u001B[39m\u001B[38;5;124m\"\u001B[39m, location\u001B[38;5;241m=\u001B[39m\u001B[38;5;124m\"\u001B[39m\u001B[38;5;124mEU\u001B[39m\u001B[38;5;124m\"\u001B[39m, if_exists\u001B[38;5;241m=\u001B[39m\u001B[38;5;124m\"\u001B[39m\u001B[38;5;124mappend\u001B[39m\u001B[38;5;124m\"\u001B[39m, chunksize\u001B[38;5;241m=\u001B[39m\u001B[38;5;241m10\u001B[39m\n\u001B[1;32m      6\u001B[0m )\n",
      "File \u001B[0;32m~/anaconda3/lib/python3.11/site-packages/pandas/core/frame.py:2170\u001B[0m, in \u001B[0;36mDataFrame.to_gbq\u001B[0;34m(self, destination_table, project_id, chunksize, reauth, if_exists, auth_local_webserver, table_schema, location, progress_bar, credentials)\u001B[0m\n\u001B[1;32m   2085\u001B[0m \u001B[38;5;250m\u001B[39m\u001B[38;5;124;03m\"\"\"\u001B[39;00m\n\u001B[1;32m   2086\u001B[0m \u001B[38;5;124;03mWrite a DataFrame to a Google BigQuery table.\u001B[39;00m\n\u001B[1;32m   2087\u001B[0m \n\u001B[0;32m   (...)\u001B[0m\n\u001B[1;32m   2166\u001B[0m \u001B[38;5;124;03mread_gbq : Read a DataFrame from Google BigQuery.\u001B[39;00m\n\u001B[1;32m   2167\u001B[0m \u001B[38;5;124;03m\"\"\"\u001B[39;00m\n\u001B[1;32m   2168\u001B[0m \u001B[38;5;28;01mfrom\u001B[39;00m \u001B[38;5;21;01mpandas\u001B[39;00m\u001B[38;5;21;01m.\u001B[39;00m\u001B[38;5;21;01mio\u001B[39;00m \u001B[38;5;28;01mimport\u001B[39;00m gbq\n\u001B[0;32m-> 2170\u001B[0m gbq\u001B[38;5;241m.\u001B[39mto_gbq(\n\u001B[1;32m   2171\u001B[0m     \u001B[38;5;28mself\u001B[39m,\n\u001B[1;32m   2172\u001B[0m     destination_table,\n\u001B[1;32m   2173\u001B[0m     project_id\u001B[38;5;241m=\u001B[39mproject_id,\n\u001B[1;32m   2174\u001B[0m     chunksize\u001B[38;5;241m=\u001B[39mchunksize,\n\u001B[1;32m   2175\u001B[0m     reauth\u001B[38;5;241m=\u001B[39mreauth,\n\u001B[1;32m   2176\u001B[0m     if_exists\u001B[38;5;241m=\u001B[39mif_exists,\n\u001B[1;32m   2177\u001B[0m     auth_local_webserver\u001B[38;5;241m=\u001B[39mauth_local_webserver,\n\u001B[1;32m   2178\u001B[0m     table_schema\u001B[38;5;241m=\u001B[39mtable_schema,\n\u001B[1;32m   2179\u001B[0m     location\u001B[38;5;241m=\u001B[39mlocation,\n\u001B[1;32m   2180\u001B[0m     progress_bar\u001B[38;5;241m=\u001B[39mprogress_bar,\n\u001B[1;32m   2181\u001B[0m     credentials\u001B[38;5;241m=\u001B[39mcredentials,\n\u001B[1;32m   2182\u001B[0m )\n",
      "File \u001B[0;32m~/anaconda3/lib/python3.11/site-packages/pandas/io/gbq.py:218\u001B[0m, in \u001B[0;36mto_gbq\u001B[0;34m(dataframe, destination_table, project_id, chunksize, reauth, if_exists, auth_local_webserver, table_schema, location, progress_bar, credentials)\u001B[0m\n\u001B[1;32m    204\u001B[0m \u001B[38;5;28;01mdef\u001B[39;00m \u001B[38;5;21mto_gbq\u001B[39m(\n\u001B[1;32m    205\u001B[0m     dataframe: DataFrame,\n\u001B[1;32m    206\u001B[0m     destination_table: \u001B[38;5;28mstr\u001B[39m,\n\u001B[0;32m   (...)\u001B[0m\n\u001B[1;32m    215\u001B[0m     credentials\u001B[38;5;241m=\u001B[39m\u001B[38;5;28;01mNone\u001B[39;00m,\n\u001B[1;32m    216\u001B[0m ) \u001B[38;5;241m-\u001B[39m\u001B[38;5;241m>\u001B[39m \u001B[38;5;28;01mNone\u001B[39;00m:\n\u001B[1;32m    217\u001B[0m     pandas_gbq \u001B[38;5;241m=\u001B[39m _try_import()\n\u001B[0;32m--> 218\u001B[0m     pandas_gbq\u001B[38;5;241m.\u001B[39mto_gbq(\n\u001B[1;32m    219\u001B[0m         dataframe,\n\u001B[1;32m    220\u001B[0m         destination_table,\n\u001B[1;32m    221\u001B[0m         project_id\u001B[38;5;241m=\u001B[39mproject_id,\n\u001B[1;32m    222\u001B[0m         chunksize\u001B[38;5;241m=\u001B[39mchunksize,\n\u001B[1;32m    223\u001B[0m         reauth\u001B[38;5;241m=\u001B[39mreauth,\n\u001B[1;32m    224\u001B[0m         if_exists\u001B[38;5;241m=\u001B[39mif_exists,\n\u001B[1;32m    225\u001B[0m         auth_local_webserver\u001B[38;5;241m=\u001B[39mauth_local_webserver,\n\u001B[1;32m    226\u001B[0m         table_schema\u001B[38;5;241m=\u001B[39mtable_schema,\n\u001B[1;32m    227\u001B[0m         location\u001B[38;5;241m=\u001B[39mlocation,\n\u001B[1;32m    228\u001B[0m         progress_bar\u001B[38;5;241m=\u001B[39mprogress_bar,\n\u001B[1;32m    229\u001B[0m         credentials\u001B[38;5;241m=\u001B[39mcredentials,\n\u001B[1;32m    230\u001B[0m     )\n",
      "File \u001B[0;32m~/anaconda3/lib/python3.11/site-packages/pandas_gbq/gbq.py:1135\u001B[0m, in \u001B[0;36mto_gbq\u001B[0;34m(dataframe, destination_table, project_id, chunksize, reauth, if_exists, auth_local_webserver, table_schema, location, progress_bar, credentials, api_method, verbose, private_key, auth_redirect_uri, client_id, client_secret)\u001B[0m\n\u001B[1;32m   1130\u001B[0m \u001B[38;5;28;01mif\u001B[39;00m dataframe\u001B[38;5;241m.\u001B[39mempty:\n\u001B[1;32m   1131\u001B[0m     \u001B[38;5;66;03m# Create the table (if needed), but don't try to run a load job with an\u001B[39;00m\n\u001B[1;32m   1132\u001B[0m     \u001B[38;5;66;03m# empty file. See: https://github.com/pydata/pandas-gbq/issues/237\u001B[39;00m\n\u001B[1;32m   1133\u001B[0m     \u001B[38;5;28;01mreturn\u001B[39;00m\n\u001B[0;32m-> 1135\u001B[0m connector\u001B[38;5;241m.\u001B[39mload_data(\n\u001B[1;32m   1136\u001B[0m     dataframe,\n\u001B[1;32m   1137\u001B[0m     destination_table_ref,\n\u001B[1;32m   1138\u001B[0m     write_disposition\u001B[38;5;241m=\u001B[39mwrite_disposition,\n\u001B[1;32m   1139\u001B[0m     chunksize\u001B[38;5;241m=\u001B[39mchunksize,\n\u001B[1;32m   1140\u001B[0m     schema\u001B[38;5;241m=\u001B[39mtable_schema,\n\u001B[1;32m   1141\u001B[0m     progress_bar\u001B[38;5;241m=\u001B[39mprogress_bar,\n\u001B[1;32m   1142\u001B[0m     api_method\u001B[38;5;241m=\u001B[39mapi_method,\n\u001B[1;32m   1143\u001B[0m     billing_project\u001B[38;5;241m=\u001B[39mproject_id,\n\u001B[1;32m   1144\u001B[0m )\n",
      "File \u001B[0;32m~/anaconda3/lib/python3.11/site-packages/pandas_gbq/gbq.py:521\u001B[0m, in \u001B[0;36mGbqConnector.load_data\u001B[0;34m(self, dataframe, destination_table_ref, write_disposition, chunksize, schema, progress_bar, api_method, billing_project)\u001B[0m\n\u001B[1;32m    515\u001B[0m         logger\u001B[38;5;241m.\u001B[39minfo(\n\u001B[1;32m    516\u001B[0m             \u001B[38;5;124m\"\u001B[39m\u001B[38;5;130;01m\\r\u001B[39;00m\u001B[38;5;132;01m{}\u001B[39;00m\u001B[38;5;124m out of \u001B[39m\u001B[38;5;132;01m{}\u001B[39;00m\u001B[38;5;124m rows loaded.\u001B[39m\u001B[38;5;124m\"\u001B[39m\u001B[38;5;241m.\u001B[39mformat(\n\u001B[1;32m    517\u001B[0m                 total_rows \u001B[38;5;241m-\u001B[39m remaining_rows, total_rows\n\u001B[1;32m    518\u001B[0m             )\n\u001B[1;32m    519\u001B[0m         )\n\u001B[1;32m    520\u001B[0m \u001B[38;5;28;01mexcept\u001B[39;00m \u001B[38;5;28mself\u001B[39m\u001B[38;5;241m.\u001B[39mhttp_error \u001B[38;5;28;01mas\u001B[39;00m ex:\n\u001B[0;32m--> 521\u001B[0m     \u001B[38;5;28mself\u001B[39m\u001B[38;5;241m.\u001B[39mprocess_http_error(ex)\n",
      "File \u001B[0;32m~/anaconda3/lib/python3.11/site-packages/pandas_gbq/gbq.py:368\u001B[0m, in \u001B[0;36mGbqConnector.process_http_error\u001B[0;34m(ex)\u001B[0m\n\u001B[1;32m    366\u001B[0m     \u001B[38;5;28;01mraise\u001B[39;00m TableCreationError(\u001B[38;5;124mf\u001B[39m\u001B[38;5;124m\"\u001B[39m\u001B[38;5;124mReason: \u001B[39m\u001B[38;5;132;01m{\u001B[39;00merror_message\u001B[38;5;132;01m}\u001B[39;00m\u001B[38;5;124m\"\u001B[39m)\n\u001B[1;32m    367\u001B[0m \u001B[38;5;28;01melse\u001B[39;00m:\n\u001B[0;32m--> 368\u001B[0m     \u001B[38;5;28;01mraise\u001B[39;00m GenericGBQException(\u001B[38;5;124m\"\u001B[39m\u001B[38;5;124mReason: \u001B[39m\u001B[38;5;132;01m{0}\u001B[39;00m\u001B[38;5;124m\"\u001B[39m\u001B[38;5;241m.\u001B[39mformat(ex)) \u001B[38;5;28;01mfrom\u001B[39;00m \u001B[38;5;21;01mex\u001B[39;00m\n",
      "\u001B[0;31mGenericGBQException\u001B[0m: Reason: 404 POST https://bigquery.googleapis.com/upload/bigquery/v2/projects/analytics-147612/jobs?uploadType=multipart: Not found: Dataset analytics-147612:dbt_gsokolov"
     ]
    }
   ],
   "source": [
    "user_ids = pd.read_csv(\n",
    "    \"/Users/gsokolov/Library/CloudStorage/GoogleDrive-gsokolov@ourgapps.com/My Drive/Exported Data/ETH_recom_280224.csv\"\n",
    ")\n",
    "user_ids.to_gbq(\n",
    "    \"dbt_gsokolov.eth_recom\", location=\"EU\", if_exists=\"append\", chunksize=10\n",
    ")"
   ]
  },
  {
   "cell_type": "code",
   "execution_count": 20,
   "id": "6f3a43e68ace4116",
   "metadata": {
    "ExecuteTime": {
     "end_time": "2024-03-14T14:44:42.234842Z",
     "start_time": "2024-03-14T14:44:42.231302Z"
    },
    "collapsed": false
   },
   "outputs": [],
   "source": [
    "random_user_ids = pd.read_csv(\n",
    "    \"/Users/gsokolov/Library/CloudStorage/GoogleDrive-gsokolov@ourgapps.com/My Drive/Exported Data/Random_users_280224.csv\"\n",
    ")\n",
    "random_user_ids.to_gbq(\n",
    "    \"dev_gsokolov.random_users\", location=\"EU\", if_exists=\"append\", chunksize=10\n",
    ")"
   ]
  },
  {
   "cell_type": "code",
   "execution_count": 3,
   "id": "876ea6353f212629",
   "metadata": {
    "ExecuteTime": {
     "end_time": "2024-03-01T13:47:40.439343Z",
     "start_time": "2024-03-01T13:47:26.881361Z"
    },
    "collapsed": false
   },
   "outputs": [
    {
     "name": "stdout",
     "output_type": "stream",
     "text": [
      "Downloading: 100%|\u001B[32m██████████\u001B[0m|\n"
     ]
    }
   ],
   "source": [
    "sql = \"\"\"\n",
    "SELECT * FROM dev_gsokolov.user_deals\n",
    "LIMIT 1000\n",
    "\"\"\"\n",
    "deals = gbq.read_gbq(sql, project_id=\"analytics-147612\", location=\"EU\")"
   ]
  },
  {
   "cell_type": "code",
   "execution_count": 8,
   "id": "d42fb0305e76ad49",
   "metadata": {
    "ExecuteTime": {
     "end_time": "2024-03-01T13:55:59.982606Z",
     "start_time": "2024-03-01T13:55:59.977035Z"
    },
    "collapsed": false
   },
   "outputs": [
    {
     "data": {
      "text/plain": [
       "578"
      ]
     },
     "execution_count": 8,
     "metadata": {},
     "output_type": "execute_result"
    }
   ],
   "source": [
    "deals[\"deals\"].apply(lambda x: [i for i in x if \"ETH\" in i[\"symbol_name\"]]).apply(\n",
    "    lambda x: len(x)\n",
    ").sum()"
   ]
  },
  {
   "cell_type": "code",
   "execution_count": 12,
   "id": "2a75279bf3c7ffd1",
   "metadata": {
    "ExecuteTime": {
     "end_time": "2024-03-03T19:26:55.513977Z",
     "start_time": "2024-03-03T19:26:51.823136Z"
    },
    "collapsed": false
   },
   "outputs": [],
   "source": [
    "user_deals_cnt = pd.read_gbq(\n",
    "    \"\"\"\n",
    "SELECT\n",
    "    ud.user_id\n",
    "    , SUM(ud.deals_cnt) AS total_deals_cnt\n",
    "    , SUM(COALESCE(uc.eth_deals_cnt, 0)) AS eth_deals_cnt\n",
    "FROM dev_gsokolov.user_conversion AS uc\n",
    "    RIGHT JOIN dev_gsokolov.user_deals AS ud\n",
    "        ON uc.user_id = ud.user_id\n",
    "GROUP BY ud.user_id\n",
    "ORDER BY eth_deals_cnt DESC;\n",
    "\"\"\"\n",
    ")"
   ]
  },
  {
   "cell_type": "code",
   "execution_count": 8,
   "id": "13f49f415f327fed",
   "metadata": {
    "ExecuteTime": {
     "end_time": "2024-03-03T15:38:30.011698Z",
     "start_time": "2024-03-03T15:38:26.584557Z"
    },
    "collapsed": false
   },
   "outputs": [],
   "source": [
    "user_eth_stats = pd.read_gbq(\n",
    "    \"\"\"\n",
    "SELECT * FROM dev_gsokolov.user_conversion\n",
    "\"\"\"\n",
    ")"
   ]
  },
  {
   "cell_type": "code",
   "execution_count": 10,
   "id": "3b4c0d37506707cb",
   "metadata": {
    "ExecuteTime": {
     "end_time": "2024-03-03T15:38:53.046058Z",
     "start_time": "2024-03-03T15:38:34.188651Z"
    },
    "collapsed": false
   },
   "outputs": [],
   "source": [
    "user_stats = pd.read_gbq(\n",
    "    \"\"\"\n",
    "SELECT\n",
    "    ud.user_id\n",
    "    , ud.trade_day\n",
    "    , COUNT(DISTINCT ud.operation_id) AS deals_cnt\n",
    "    , SUM(ud.volume) AS sum_vol\n",
    "    , SUM(ud.profit) AS sum_profit\n",
    "    , AVG(\n",
    "        CAST(TIMESTAMP_DIFF(ud.close_time_dt, ud.open_time_dt, SECOND) / 60 AS INT64)\n",
    "    ) AS avg_deal_duration\n",
    "FROM dev_gsokolov.user_deals_flat AS ud\n",
    "    LEFT JOIN dev_gsokolov.user_conversion AS uc\n",
    "        ON ud.user_id = uc.user_id\n",
    "GROUP BY\n",
    "    1, 2\n",
    "\"\"\"\n",
    ")"
   ]
  },
  {
   "cell_type": "code",
   "execution_count": 14,
   "id": "6f2d5067394e64ff",
   "metadata": {
    "ExecuteTime": {
     "end_time": "2024-03-03T16:08:06.073566Z",
     "start_time": "2024-03-03T16:08:06.068325Z"
    },
    "collapsed": false
   },
   "outputs": [
    {
     "name": "stdout",
     "output_type": "stream",
     "text": [
      "1537\n",
      "17027\n"
     ]
    }
   ],
   "source": [
    "print(user_eth_stats[\"user_id\"].nunique())\n",
    "print(user_stats[\"user_id\"].nunique())"
   ]
  },
  {
   "cell_type": "code",
   "execution_count": 15,
   "id": "ff4872c49aecedb2",
   "metadata": {
    "ExecuteTime": {
     "end_time": "2024-03-03T16:08:09.034621Z",
     "start_time": "2024-03-03T16:08:09.028348Z"
    },
    "collapsed": false
   },
   "outputs": [],
   "source": [
    "avg_eth_vol = (\n",
    "    user_eth_stats.groupby(\"user_id\")[\"eth_sum_vol\"].sum()\n",
    "    / user_eth_stats.groupby(\"user_id\")[\"eth_deals_cnt\"].sum()\n",
    ")"
   ]
  },
  {
   "cell_type": "code",
   "execution_count": 5,
   "id": "63874d6efab36b37",
   "metadata": {
    "ExecuteTime": {
     "end_time": "2024-03-03T19:19:12.667257Z",
     "start_time": "2024-03-03T19:18:55.002978Z"
    },
    "SqlCellData": {
     "data_source_name": "DWH",
     "variableName$1": "df_sql"
    },
    "collapsed": false
   },
   "outputs": [
    {
     "data": {
      "text/html": [
       "<div>\n",
       "<style scoped>\n",
       "    .dataframe tbody tr th:only-of-type {\n",
       "        vertical-align: middle;\n",
       "    }\n",
       "\n",
       "    .dataframe tbody tr th {\n",
       "        vertical-align: top;\n",
       "    }\n",
       "\n",
       "    .dataframe thead th {\n",
       "        text-align: right;\n",
       "    }\n",
       "</style>\n",
       "<table border=\"1\" class=\"dataframe\">\n",
       "  <thead>\n",
       "    <tr style=\"text-align: right;\">\n",
       "      <th></th>\n",
       "      <th>user_id</th>\n",
       "      <th>operation_id</th>\n",
       "      <th>symbol_name</th>\n",
       "      <th>cmd</th>\n",
       "      <th>volume</th>\n",
       "      <th>open_price</th>\n",
       "      <th>close_price</th>\n",
       "      <th>profit</th>\n",
       "      <th>open_time_dt</th>\n",
       "      <th>close_time_dt</th>\n",
       "      <th>trade_day</th>\n",
       "    </tr>\n",
       "  </thead>\n",
       "  <tbody>\n",
       "    <tr>\n",
       "      <th>0</th>\n",
       "      <td>37951711</td>\n",
       "      <td>17279954</td>\n",
       "      <td>XAUUSD</td>\n",
       "      <td>1</td>\n",
       "      <td>0.01</td>\n",
       "      <td>2035.05000</td>\n",
       "      <td>2035.42000</td>\n",
       "      <td>0.37</td>\n",
       "      <td>2024-02-07 13:53:03.783400</td>\n",
       "      <td>2024-02-07 14:23:05.148900</td>\n",
       "      <td>2024-02-07</td>\n",
       "    </tr>\n",
       "    <tr>\n",
       "      <th>1</th>\n",
       "      <td>37951711</td>\n",
       "      <td>17274652</td>\n",
       "      <td>XAUUSD</td>\n",
       "      <td>0</td>\n",
       "      <td>0.01</td>\n",
       "      <td>2034.17000</td>\n",
       "      <td>2035.26000</td>\n",
       "      <td>-1.09</td>\n",
       "      <td>2024-02-07 05:51:01.569100</td>\n",
       "      <td>2024-02-07 13:32:26.187400</td>\n",
       "      <td>2024-02-07</td>\n",
       "    </tr>\n",
       "    <tr>\n",
       "      <th>2</th>\n",
       "      <td>37951711</td>\n",
       "      <td>17243910</td>\n",
       "      <td>XAUUSD</td>\n",
       "      <td>1</td>\n",
       "      <td>0.01</td>\n",
       "      <td>2034.61000</td>\n",
       "      <td>2034.23000</td>\n",
       "      <td>-0.38</td>\n",
       "      <td>2024-02-07 05:35:38.351200</td>\n",
       "      <td>2024-02-07 05:51:21.805200</td>\n",
       "      <td>2024-02-07</td>\n",
       "    </tr>\n",
       "    <tr>\n",
       "      <th>3</th>\n",
       "      <td>37951711</td>\n",
       "      <td>17242607</td>\n",
       "      <td>USDJPY</td>\n",
       "      <td>0</td>\n",
       "      <td>0.01</td>\n",
       "      <td>147.94900</td>\n",
       "      <td>147.99600</td>\n",
       "      <td>-0.32</td>\n",
       "      <td>2024-02-07 04:57:26.806800</td>\n",
       "      <td>2024-02-07 05:15:53.754800</td>\n",
       "      <td>2024-02-07</td>\n",
       "    </tr>\n",
       "    <tr>\n",
       "      <th>4</th>\n",
       "      <td>37951711</td>\n",
       "      <td>17295112</td>\n",
       "      <td>XAUUSD</td>\n",
       "      <td>0</td>\n",
       "      <td>0.02</td>\n",
       "      <td>2033.84000</td>\n",
       "      <td>2039.14000</td>\n",
       "      <td>-10.60</td>\n",
       "      <td>2024-02-07 06:06:25.117200</td>\n",
       "      <td>2024-02-07 16:00:37.773100</td>\n",
       "      <td>2024-02-07</td>\n",
       "    </tr>\n",
       "    <tr>\n",
       "      <th>...</th>\n",
       "      <td>...</td>\n",
       "      <td>...</td>\n",
       "      <td>...</td>\n",
       "      <td>...</td>\n",
       "      <td>...</td>\n",
       "      <td>...</td>\n",
       "      <td>...</td>\n",
       "      <td>...</td>\n",
       "      <td>...</td>\n",
       "      <td>...</td>\n",
       "      <td>...</td>\n",
       "    </tr>\n",
       "    <tr>\n",
       "      <th>222300</th>\n",
       "      <td>35675515</td>\n",
       "      <td>21552862</td>\n",
       "      <td>XAGUSD</td>\n",
       "      <td>1</td>\n",
       "      <td>0.01</td>\n",
       "      <td>22.42700</td>\n",
       "      <td>22.48800</td>\n",
       "      <td>3.05</td>\n",
       "      <td>2024-02-28 04:58:50.060700</td>\n",
       "      <td>2024-02-28 13:32:10.849800</td>\n",
       "      <td>2024-02-28</td>\n",
       "    </tr>\n",
       "    <tr>\n",
       "      <th>222301</th>\n",
       "      <td>35675515</td>\n",
       "      <td>21602543</td>\n",
       "      <td>XAGUSD</td>\n",
       "      <td>1</td>\n",
       "      <td>0.01</td>\n",
       "      <td>22.43000</td>\n",
       "      <td>22.44300</td>\n",
       "      <td>0.65</td>\n",
       "      <td>2024-02-28 14:00:57.206700</td>\n",
       "      <td>2024-02-28 17:06:56.691100</td>\n",
       "      <td>2024-02-28</td>\n",
       "    </tr>\n",
       "    <tr>\n",
       "      <th>222302</th>\n",
       "      <td>31518527</td>\n",
       "      <td>21526927</td>\n",
       "      <td>EURUSD</td>\n",
       "      <td>1</td>\n",
       "      <td>0.01</td>\n",
       "      <td>1.08149</td>\n",
       "      <td>1.08157</td>\n",
       "      <td>0.08</td>\n",
       "      <td>2024-02-28 08:25:27.837700</td>\n",
       "      <td>2024-02-28 11:01:21.297400</td>\n",
       "      <td>2024-02-28</td>\n",
       "    </tr>\n",
       "    <tr>\n",
       "      <th>222303</th>\n",
       "      <td>31518527</td>\n",
       "      <td>21547000</td>\n",
       "      <td>EURUSD</td>\n",
       "      <td>1</td>\n",
       "      <td>0.01</td>\n",
       "      <td>1.08049</td>\n",
       "      <td>1.08131</td>\n",
       "      <td>0.82</td>\n",
       "      <td>2024-02-28 09:16:01.371500</td>\n",
       "      <td>2024-02-28 13:16:11.879300</td>\n",
       "      <td>2024-02-28</td>\n",
       "    </tr>\n",
       "    <tr>\n",
       "      <th>222304</th>\n",
       "      <td>35983295</td>\n",
       "      <td>18688012</td>\n",
       "      <td>XAUUSD</td>\n",
       "      <td>1</td>\n",
       "      <td>0.01</td>\n",
       "      <td>2029.50000</td>\n",
       "      <td>2025.76000</td>\n",
       "      <td>-3.74</td>\n",
       "      <td>2024-02-28 06:51:19.629100</td>\n",
       "      <td>2024-02-28 09:04:49.841100</td>\n",
       "      <td>2024-02-28</td>\n",
       "    </tr>\n",
       "  </tbody>\n",
       "</table>\n",
       "<p>222305 rows × 11 columns</p>\n",
       "</div>"
      ],
      "text/plain": [
       "         user_id  operation_id symbol_name  cmd  volume  open_price  \\\n",
       "0       37951711      17279954      XAUUSD    1    0.01  2035.05000   \n",
       "1       37951711      17274652      XAUUSD    0    0.01  2034.17000   \n",
       "2       37951711      17243910      XAUUSD    1    0.01  2034.61000   \n",
       "3       37951711      17242607      USDJPY    0    0.01   147.94900   \n",
       "4       37951711      17295112      XAUUSD    0    0.02  2033.84000   \n",
       "...          ...           ...         ...  ...     ...         ...   \n",
       "222300  35675515      21552862      XAGUSD    1    0.01    22.42700   \n",
       "222301  35675515      21602543      XAGUSD    1    0.01    22.43000   \n",
       "222302  31518527      21526927      EURUSD    1    0.01     1.08149   \n",
       "222303  31518527      21547000      EURUSD    1    0.01     1.08049   \n",
       "222304  35983295      18688012      XAUUSD    1    0.01  2029.50000   \n",
       "\n",
       "        close_price  profit                open_time_dt  \\\n",
       "0        2035.42000    0.37  2024-02-07 13:53:03.783400   \n",
       "1        2035.26000   -1.09  2024-02-07 05:51:01.569100   \n",
       "2        2034.23000   -0.38  2024-02-07 05:35:38.351200   \n",
       "3         147.99600   -0.32  2024-02-07 04:57:26.806800   \n",
       "4        2039.14000  -10.60  2024-02-07 06:06:25.117200   \n",
       "...             ...     ...                         ...   \n",
       "222300     22.48800    3.05  2024-02-28 04:58:50.060700   \n",
       "222301     22.44300    0.65  2024-02-28 14:00:57.206700   \n",
       "222302      1.08157    0.08  2024-02-28 08:25:27.837700   \n",
       "222303      1.08131    0.82  2024-02-28 09:16:01.371500   \n",
       "222304   2025.76000   -3.74  2024-02-28 06:51:19.629100   \n",
       "\n",
       "                     close_time_dt   trade_day  \n",
       "0       2024-02-07 14:23:05.148900  2024-02-07  \n",
       "1       2024-02-07 13:32:26.187400  2024-02-07  \n",
       "2       2024-02-07 05:51:21.805200  2024-02-07  \n",
       "3       2024-02-07 05:15:53.754800  2024-02-07  \n",
       "4       2024-02-07 16:00:37.773100  2024-02-07  \n",
       "...                            ...         ...  \n",
       "222300  2024-02-28 13:32:10.849800  2024-02-28  \n",
       "222301  2024-02-28 17:06:56.691100  2024-02-28  \n",
       "222302  2024-02-28 11:01:21.297400  2024-02-28  \n",
       "222303  2024-02-28 13:16:11.879300  2024-02-28  \n",
       "222304  2024-02-28 09:04:49.841100  2024-02-28  \n",
       "\n",
       "[222305 rows x 11 columns]"
      ]
     },
     "execution_count": 5,
     "metadata": {},
     "output_type": "execute_result"
    }
   ],
   "source": [
    "%%sql\n",
    "select * from dev_gsokolov.user_deals_flat"
   ]
  },
  {
   "cell_type": "code",
   "outputs": [],
   "source": [
    "random_user_deals = pd.read_gbq()"
   ],
   "metadata": {
    "collapsed": false
   },
   "id": "77c9693b96065ff"
  },
  {
   "cell_type": "code",
   "execution_count": 6,
   "id": "10c0c2d41b803437",
   "metadata": {
    "ExecuteTime": {
     "end_time": "2024-03-03T19:19:28.366346Z",
     "start_time": "2024-03-03T19:19:28.233283Z"
    },
    "collapsed": false
   },
   "outputs": [
    {
     "data": {
      "text/html": [
       "<div>\n",
       "<style scoped>\n",
       "    .dataframe tbody tr th:only-of-type {\n",
       "        vertical-align: middle;\n",
       "    }\n",
       "\n",
       "    .dataframe tbody tr th {\n",
       "        vertical-align: top;\n",
       "    }\n",
       "\n",
       "    .dataframe thead th {\n",
       "        text-align: right;\n",
       "    }\n",
       "</style>\n",
       "<table border=\"1\" class=\"dataframe\">\n",
       "  <thead>\n",
       "    <tr style=\"text-align: right;\">\n",
       "      <th></th>\n",
       "      <th>user_id</th>\n",
       "      <th>trade_day</th>\n",
       "      <th>total_deals</th>\n",
       "      <th>total_volume</th>\n",
       "    </tr>\n",
       "  </thead>\n",
       "  <tbody>\n",
       "    <tr>\n",
       "      <th>0</th>\n",
       "      <td>8362</td>\n",
       "      <td>2024-02-01</td>\n",
       "      <td>4</td>\n",
       "      <td>0.04</td>\n",
       "    </tr>\n",
       "    <tr>\n",
       "      <th>1</th>\n",
       "      <td>8362</td>\n",
       "      <td>2024-02-02</td>\n",
       "      <td>3</td>\n",
       "      <td>0.03</td>\n",
       "    </tr>\n",
       "    <tr>\n",
       "      <th>2</th>\n",
       "      <td>8362</td>\n",
       "      <td>2024-02-05</td>\n",
       "      <td>6</td>\n",
       "      <td>0.06</td>\n",
       "    </tr>\n",
       "    <tr>\n",
       "      <th>3</th>\n",
       "      <td>8362</td>\n",
       "      <td>2024-02-08</td>\n",
       "      <td>3</td>\n",
       "      <td>0.03</td>\n",
       "    </tr>\n",
       "    <tr>\n",
       "      <th>4</th>\n",
       "      <td>8362</td>\n",
       "      <td>2024-02-12</td>\n",
       "      <td>8</td>\n",
       "      <td>0.08</td>\n",
       "    </tr>\n",
       "    <tr>\n",
       "      <th>...</th>\n",
       "      <td>...</td>\n",
       "      <td>...</td>\n",
       "      <td>...</td>\n",
       "      <td>...</td>\n",
       "    </tr>\n",
       "    <tr>\n",
       "      <th>34178</th>\n",
       "      <td>38617918</td>\n",
       "      <td>2024-02-27</td>\n",
       "      <td>2</td>\n",
       "      <td>0.02</td>\n",
       "    </tr>\n",
       "    <tr>\n",
       "      <th>34179</th>\n",
       "      <td>38619263</td>\n",
       "      <td>2024-02-27</td>\n",
       "      <td>15</td>\n",
       "      <td>0.15</td>\n",
       "    </tr>\n",
       "    <tr>\n",
       "      <th>34180</th>\n",
       "      <td>38619263</td>\n",
       "      <td>2024-02-28</td>\n",
       "      <td>13</td>\n",
       "      <td>0.17</td>\n",
       "    </tr>\n",
       "    <tr>\n",
       "      <th>34181</th>\n",
       "      <td>38624766</td>\n",
       "      <td>2024-02-27</td>\n",
       "      <td>8</td>\n",
       "      <td>0.12</td>\n",
       "    </tr>\n",
       "    <tr>\n",
       "      <th>34182</th>\n",
       "      <td>38624766</td>\n",
       "      <td>2024-02-28</td>\n",
       "      <td>9</td>\n",
       "      <td>0.09</td>\n",
       "    </tr>\n",
       "  </tbody>\n",
       "</table>\n",
       "<p>34183 rows × 4 columns</p>\n",
       "</div>"
      ],
      "text/plain": [
       "        user_id   trade_day  total_deals  total_volume\n",
       "0          8362  2024-02-01            4          0.04\n",
       "1          8362  2024-02-02            3          0.03\n",
       "2          8362  2024-02-05            6          0.06\n",
       "3          8362  2024-02-08            3          0.03\n",
       "4          8362  2024-02-12            8          0.08\n",
       "...         ...         ...          ...           ...\n",
       "34178  38617918  2024-02-27            2          0.02\n",
       "34179  38619263  2024-02-27           15          0.15\n",
       "34180  38619263  2024-02-28           13          0.17\n",
       "34181  38624766  2024-02-27            8          0.12\n",
       "34182  38624766  2024-02-28            9          0.09\n",
       "\n",
       "[34183 rows x 4 columns]"
      ]
     },
     "execution_count": 6,
     "metadata": {},
     "output_type": "execute_result"
    }
   ],
   "source": [
    "# Calculate the total count of deals and sum of volume of deals per day for every distinct user_id\n",
    "grouped_by_user_and_day = random_user_deals.groupby([\"user_id\", \"trade_day\"])\n",
    "deals_count = (\n",
    "    grouped_by_user_and_day[\"operation_id\"].nunique().reset_index(name=\"total_deals\")\n",
    ")\n",
    "volume_sum = grouped_by_user_and_day[\"volume\"].sum().reset_index(name=\"total_volume\")\n",
    "\n",
    "result = pd.merge(deals_count, volume_sum, on=[\"user_id\", \"trade_day\"])\n",
    "result"
   ]
  },
  {
   "cell_type": "code",
   "execution_count": 7,
   "id": "9ea59e6b269408a0",
   "metadata": {
    "ExecuteTime": {
     "end_time": "2024-03-03T19:20:51.459466Z",
     "start_time": "2024-03-03T19:20:51.382407Z"
    },
    "collapsed": false
   },
   "outputs": [
    {
     "data": {
      "text/html": [
       "<div>\n",
       "<style scoped>\n",
       "    .dataframe tbody tr th:only-of-type {\n",
       "        vertical-align: middle;\n",
       "    }\n",
       "\n",
       "    .dataframe tbody tr th {\n",
       "        vertical-align: top;\n",
       "    }\n",
       "\n",
       "    .dataframe thead th {\n",
       "        text-align: right;\n",
       "    }\n",
       "</style>\n",
       "<table border=\"1\" class=\"dataframe\">\n",
       "  <thead>\n",
       "    <tr style=\"text-align: right;\">\n",
       "      <th></th>\n",
       "      <th>user_id</th>\n",
       "      <th>trade_day</th>\n",
       "      <th>ethusd_total_deals</th>\n",
       "      <th>ethusd_total_volume</th>\n",
       "    </tr>\n",
       "  </thead>\n",
       "  <tbody>\n",
       "    <tr>\n",
       "      <th>0</th>\n",
       "      <td>206905</td>\n",
       "      <td>2024-02-13</td>\n",
       "      <td>1</td>\n",
       "      <td>0.05</td>\n",
       "    </tr>\n",
       "    <tr>\n",
       "      <th>1</th>\n",
       "      <td>325218</td>\n",
       "      <td>2024-02-21</td>\n",
       "      <td>1</td>\n",
       "      <td>0.02</td>\n",
       "    </tr>\n",
       "    <tr>\n",
       "      <th>2</th>\n",
       "      <td>325218</td>\n",
       "      <td>2024-02-25</td>\n",
       "      <td>2</td>\n",
       "      <td>0.06</td>\n",
       "    </tr>\n",
       "    <tr>\n",
       "      <th>3</th>\n",
       "      <td>462714</td>\n",
       "      <td>2024-02-27</td>\n",
       "      <td>1</td>\n",
       "      <td>0.01</td>\n",
       "    </tr>\n",
       "    <tr>\n",
       "      <th>4</th>\n",
       "      <td>713382</td>\n",
       "      <td>2024-02-23</td>\n",
       "      <td>1</td>\n",
       "      <td>0.01</td>\n",
       "    </tr>\n",
       "    <tr>\n",
       "      <th>...</th>\n",
       "      <td>...</td>\n",
       "      <td>...</td>\n",
       "      <td>...</td>\n",
       "      <td>...</td>\n",
       "    </tr>\n",
       "    <tr>\n",
       "      <th>241</th>\n",
       "      <td>38512775</td>\n",
       "      <td>2024-02-28</td>\n",
       "      <td>3</td>\n",
       "      <td>0.03</td>\n",
       "    </tr>\n",
       "    <tr>\n",
       "      <th>242</th>\n",
       "      <td>38528448</td>\n",
       "      <td>2024-02-27</td>\n",
       "      <td>3</td>\n",
       "      <td>0.27</td>\n",
       "    </tr>\n",
       "    <tr>\n",
       "      <th>243</th>\n",
       "      <td>38528448</td>\n",
       "      <td>2024-02-28</td>\n",
       "      <td>11</td>\n",
       "      <td>0.41</td>\n",
       "    </tr>\n",
       "    <tr>\n",
       "      <th>244</th>\n",
       "      <td>38596586</td>\n",
       "      <td>2024-02-27</td>\n",
       "      <td>1</td>\n",
       "      <td>0.01</td>\n",
       "    </tr>\n",
       "    <tr>\n",
       "      <th>245</th>\n",
       "      <td>38596586</td>\n",
       "      <td>2024-02-28</td>\n",
       "      <td>34</td>\n",
       "      <td>0.34</td>\n",
       "    </tr>\n",
       "  </tbody>\n",
       "</table>\n",
       "<p>246 rows × 4 columns</p>\n",
       "</div>"
      ],
      "text/plain": [
       "      user_id   trade_day  ethusd_total_deals  ethusd_total_volume\n",
       "0      206905  2024-02-13                   1                 0.05\n",
       "1      325218  2024-02-21                   1                 0.02\n",
       "2      325218  2024-02-25                   2                 0.06\n",
       "3      462714  2024-02-27                   1                 0.01\n",
       "4      713382  2024-02-23                   1                 0.01\n",
       "..        ...         ...                 ...                  ...\n",
       "241  38512775  2024-02-28                   3                 0.03\n",
       "242  38528448  2024-02-27                   3                 0.27\n",
       "243  38528448  2024-02-28                  11                 0.41\n",
       "244  38596586  2024-02-27                   1                 0.01\n",
       "245  38596586  2024-02-28                  34                 0.34\n",
       "\n",
       "[246 rows x 4 columns]"
      ]
     },
     "execution_count": 7,
     "metadata": {},
     "output_type": "execute_result"
    }
   ],
   "source": [
    "ethusd_df = random_user_deals[random_user_deals[\"symbol_name\"] == \"ETHUSD\"]\n",
    "\n",
    "ethusd_grouped_by_user_and_day = ethusd_df.groupby([\"user_id\", \"trade_day\"])\n",
    "ethusd_deals_count = (\n",
    "    ethusd_grouped_by_user_and_day[\"operation_id\"]\n",
    "    .nunique()\n",
    "    .reset_index(name=\"ethusd_total_deals\")\n",
    ")\n",
    "ethusd_volume_sum = (\n",
    "    ethusd_grouped_by_user_and_day[\"volume\"]\n",
    "    .sum()\n",
    "    .reset_index(name=\"ethusd_total_volume\")\n",
    ")\n",
    "\n",
    "ethusd_result = pd.merge(\n",
    "    ethusd_deals_count, ethusd_volume_sum, on=[\"user_id\", \"trade_day\"]\n",
    ")\n",
    "ethusd_result"
   ]
  },
  {
   "cell_type": "code",
   "execution_count": 8,
   "id": "9ef6ef6af3b8558d",
   "metadata": {
    "ExecuteTime": {
     "end_time": "2024-03-03T19:24:00.712343Z",
     "start_time": "2024-03-03T19:24:00.659398Z"
    },
    "collapsed": false
   },
   "outputs": [
    {
     "name": "stdout",
     "output_type": "stream",
     "text": [
      "Percentage of all deals that were ETHUSD deals: 0.22360695566103528\n",
      "Percentage of unique users who made at least one ETHUSD deal: 3.068592057761733\n"
     ]
    }
   ],
   "source": [
    "total_deals = random_user_deals[\"operation_id\"].nunique()\n",
    "ethusd_deals = random_user_deals[random_user_deals[\"symbol_name\"] == \"ETHUSD\"][\n",
    "    \"operation_id\"\n",
    "].nunique()\n",
    "\n",
    "percent_ethusd_deals = (ethusd_deals / total_deals) * 100\n",
    "\n",
    "unique_ethusd_users = random_user_deals[random_user_deals[\"symbol_name\"] == \"ETHUSD\"][\n",
    "    \"user_id\"\n",
    "].nunique()\n",
    "\n",
    "percent_unique_ethusd_users = (\n",
    "    unique_ethusd_users / random_user_deals[\"user_id\"].nunique()\n",
    ") * 100\n",
    "\n",
    "print(\"Percentage of all deals that were ETHUSD deals:\", percent_ethusd_deals)\n",
    "print(\n",
    "    \"Percentage of unique users who made at least one ETHUSD deal:\",\n",
    "    percent_unique_ethusd_users,\n",
    ")"
   ]
  },
  {
   "cell_type": "code",
   "execution_count": 19,
   "id": "93c79a9ee348baff",
   "metadata": {
    "ExecuteTime": {
     "end_time": "2024-03-03T20:17:07.559180Z",
     "start_time": "2024-03-03T20:17:03.189563Z"
    },
    "SqlCellData": {
     "data_source_name": "DWH",
     "variableName$1": "stats"
    },
    "collapsed": false
   },
   "outputs": [
    {
     "data": {
      "text/html": [
       "<div>\n",
       "<style scoped>\n",
       "    .dataframe tbody tr th:only-of-type {\n",
       "        vertical-align: middle;\n",
       "    }\n",
       "\n",
       "    .dataframe tbody tr th {\n",
       "        vertical-align: top;\n",
       "    }\n",
       "\n",
       "    .dataframe thead th {\n",
       "        text-align: right;\n",
       "    }\n",
       "</style>\n",
       "<table border=\"1\" class=\"dataframe\">\n",
       "  <thead>\n",
       "    <tr style=\"text-align: right;\">\n",
       "      <th></th>\n",
       "      <th>trade_week</th>\n",
       "      <th>user_cnt</th>\n",
       "      <th>deal_cnt</th>\n",
       "    </tr>\n",
       "  </thead>\n",
       "  <tbody>\n",
       "    <tr>\n",
       "      <th>0</th>\n",
       "      <td>2024-02-26</td>\n",
       "      <td>18341</td>\n",
       "      <td>867175</td>\n",
       "    </tr>\n",
       "    <tr>\n",
       "      <th>1</th>\n",
       "      <td>2024-02-19</td>\n",
       "      <td>16974</td>\n",
       "      <td>640927</td>\n",
       "    </tr>\n",
       "    <tr>\n",
       "      <th>2</th>\n",
       "      <td>2024-02-12</td>\n",
       "      <td>15724</td>\n",
       "      <td>647488</td>\n",
       "    </tr>\n",
       "    <tr>\n",
       "      <th>3</th>\n",
       "      <td>2024-02-05</td>\n",
       "      <td>14602</td>\n",
       "      <td>635742</td>\n",
       "    </tr>\n",
       "    <tr>\n",
       "      <th>4</th>\n",
       "      <td>2024-01-29</td>\n",
       "      <td>13946</td>\n",
       "      <td>714015</td>\n",
       "    </tr>\n",
       "    <tr>\n",
       "      <th>5</th>\n",
       "      <td>2024-01-22</td>\n",
       "      <td>11734</td>\n",
       "      <td>567715</td>\n",
       "    </tr>\n",
       "    <tr>\n",
       "      <th>6</th>\n",
       "      <td>2024-01-15</td>\n",
       "      <td>11101</td>\n",
       "      <td>530086</td>\n",
       "    </tr>\n",
       "    <tr>\n",
       "      <th>7</th>\n",
       "      <td>2024-01-08</td>\n",
       "      <td>10605</td>\n",
       "      <td>590048</td>\n",
       "    </tr>\n",
       "    <tr>\n",
       "      <th>8</th>\n",
       "      <td>2024-01-01</td>\n",
       "      <td>9789</td>\n",
       "      <td>490581</td>\n",
       "    </tr>\n",
       "  </tbody>\n",
       "</table>\n",
       "</div>"
      ],
      "text/plain": [
       "   trade_week  user_cnt  deal_cnt\n",
       "0  2024-02-26     18341    867175\n",
       "1  2024-02-19     16974    640927\n",
       "2  2024-02-12     15724    647488\n",
       "3  2024-02-05     14602    635742\n",
       "4  2024-01-29     13946    714015\n",
       "5  2024-01-22     11734    567715\n",
       "6  2024-01-15     11101    530086\n",
       "7  2024-01-08     10605    590048\n",
       "8  2024-01-01      9789    490581"
      ]
     },
     "execution_count": 19,
     "metadata": {},
     "output_type": "execute_result"
    }
   ],
   "source": [
    "%%sql\n",
    "WITH users_all AS (\n",
    "    SELECT DISTINCT user_id\n",
    "    FROM (\n",
    "        SELECT *\n",
    "        FROM dev_gsokolov.eth_recom\n",
    "        UNION ALL\n",
    "        SELECT * FROM\n",
    "            dev_gsokolov.random_users\n",
    "    )\n",
    ")\n",
    "\n",
    "SELECT\n",
    "    DATE(DATE_TRUNC(\n",
    "        open_time_dt,\n",
    "        WEEK (MONDAY)\n",
    "    )) AS trade_week,\n",
    "    COUNT(DISTINCT user_id) AS user_cnt,\n",
    "    COUNT(DISTINCT operation_id) AS deal_cnt\n",
    "FROM wh_raw.trading_real_raw\n",
    "WHERE\n",
    "    DATE(open_time_dt) BETWEEN '2024-01-01' AND '2024-03-01'\n",
    "    AND user_id IN (SELECT user_id FROM users_all)\n",
    "GROUP BY 1\n",
    "ORDER BY 1 DESC"
   ]
  },
  {
   "cell_type": "code",
   "execution_count": 39,
   "id": "cf12ea8d7a15ff42",
   "metadata": {
    "ExecuteTime": {
     "end_time": "2024-03-14T19:36:05.112402Z",
     "start_time": "2024-03-14T19:36:00.914689Z"
    },
    "SqlCellData": {
     "data_source_name": "DWH",
     "variableName$1": "ab_users"
    },
    "collapsed": false
   },
   "outputs": [
    {
     "data": {
      "text/html": [
       "<div>\n",
       "<style scoped>\n",
       "    .dataframe tbody tr th:only-of-type {\n",
       "        vertical-align: middle;\n",
       "    }\n",
       "\n",
       "    .dataframe tbody tr th {\n",
       "        vertical-align: top;\n",
       "    }\n",
       "\n",
       "    .dataframe thead th {\n",
       "        text-align: right;\n",
       "    }\n",
       "</style>\n",
       "<table border=\"1\" class=\"dataframe\">\n",
       "  <thead>\n",
       "    <tr style=\"text-align: right;\">\n",
       "      <th></th>\n",
       "      <th>variant</th>\n",
       "      <th>user_id</th>\n",
       "    </tr>\n",
       "  </thead>\n",
       "  <tbody>\n",
       "    <tr>\n",
       "      <th>0</th>\n",
       "      <td>Control Group</td>\n",
       "      <td>21342381.0</td>\n",
       "    </tr>\n",
       "    <tr>\n",
       "      <th>1</th>\n",
       "      <td>Variant A</td>\n",
       "      <td>32832460.0</td>\n",
       "    </tr>\n",
       "    <tr>\n",
       "      <th>2</th>\n",
       "      <td>Variant A</td>\n",
       "      <td>16268949.0</td>\n",
       "    </tr>\n",
       "    <tr>\n",
       "      <th>3</th>\n",
       "      <td>Control Group</td>\n",
       "      <td>33554437.0</td>\n",
       "    </tr>\n",
       "    <tr>\n",
       "      <th>4</th>\n",
       "      <td>Variant A</td>\n",
       "      <td>36236757.0</td>\n",
       "    </tr>\n",
       "    <tr>\n",
       "      <th>...</th>\n",
       "      <td>...</td>\n",
       "      <td>...</td>\n",
       "    </tr>\n",
       "    <tr>\n",
       "      <th>17099</th>\n",
       "      <td>Variant A</td>\n",
       "      <td>22930674.0</td>\n",
       "    </tr>\n",
       "    <tr>\n",
       "      <th>17100</th>\n",
       "      <td>Variant A</td>\n",
       "      <td>36799598.0</td>\n",
       "    </tr>\n",
       "    <tr>\n",
       "      <th>17101</th>\n",
       "      <td>Variant A</td>\n",
       "      <td>26937569.0</td>\n",
       "    </tr>\n",
       "    <tr>\n",
       "      <th>17102</th>\n",
       "      <td>Variant A</td>\n",
       "      <td>193816.0</td>\n",
       "    </tr>\n",
       "    <tr>\n",
       "      <th>17103</th>\n",
       "      <td>Variant A</td>\n",
       "      <td>27434599.0</td>\n",
       "    </tr>\n",
       "  </tbody>\n",
       "</table>\n",
       "<p>17104 rows × 2 columns</p>\n",
       "</div>"
      ],
      "text/plain": [
       "             variant     user_id\n",
       "0      Control Group  21342381.0\n",
       "1          Variant A  32832460.0\n",
       "2          Variant A  16268949.0\n",
       "3      Control Group  33554437.0\n",
       "4          Variant A  36236757.0\n",
       "...              ...         ...\n",
       "17099      Variant A  22930674.0\n",
       "17100      Variant A  36799598.0\n",
       "17101      Variant A  26937569.0\n",
       "17102      Variant A    193816.0\n",
       "17103      Variant A  27434599.0\n",
       "\n",
       "[17104 rows x 2 columns]"
      ]
     },
     "execution_count": 39,
     "metadata": {},
     "output_type": "execute_result"
    }
   ],
   "source": [
    "%%sql\n",
    "SELECT\n",
    "    properties.variant AS variant\n",
    "    , SAFE_CAST(c.user_id AS INT64) AS user_id\n",
    "FROM `analytics-147612`.`bloomreach_raw`.`campaign` c\n",
    "WHERE campaign_id = '65cdead01d9a4d20fdcccd69'\n",
    "AND action_id = 74"
   ]
  },
  {
   "cell_type": "code",
   "execution_count": 11,
   "id": "edc7d58520cd96b6",
   "metadata": {
    "SqlCellData": {
     "data_source_name": "DWH",
     "variableName$1": "ab_users"
    },
    "collapsed": false,
    "ExecuteTime": {
     "end_time": "2024-03-15T12:03:26.952134Z",
     "start_time": "2024-03-15T12:02:54.259952Z"
    }
   },
   "outputs": [
    {
     "data": {
      "text/plain": "             variant     user_id\n0          Variant A   3264150.0\n1          Variant A  13080286.0\n2          Variant A  24112335.0\n3          Variant A   6295244.0\n4          Variant A  37842776.0\n...              ...         ...\n21954  Control Group   9707224.0\n21955  Control Group  34078324.0\n21956  Control Group  30302042.0\n21957  Control Group  33408883.0\n21958  Control Group  34730051.0\n\n[21959 rows x 2 columns]",
      "text/html": "<div>\n<style scoped>\n    .dataframe tbody tr th:only-of-type {\n        vertical-align: middle;\n    }\n\n    .dataframe tbody tr th {\n        vertical-align: top;\n    }\n\n    .dataframe thead th {\n        text-align: right;\n    }\n</style>\n<table border=\"1\" class=\"dataframe\">\n  <thead>\n    <tr style=\"text-align: right;\">\n      <th></th>\n      <th>variant</th>\n      <th>user_id</th>\n    </tr>\n  </thead>\n  <tbody>\n    <tr>\n      <th>0</th>\n      <td>Variant A</td>\n      <td>3264150.0</td>\n    </tr>\n    <tr>\n      <th>1</th>\n      <td>Variant A</td>\n      <td>13080286.0</td>\n    </tr>\n    <tr>\n      <th>2</th>\n      <td>Variant A</td>\n      <td>24112335.0</td>\n    </tr>\n    <tr>\n      <th>3</th>\n      <td>Variant A</td>\n      <td>6295244.0</td>\n    </tr>\n    <tr>\n      <th>4</th>\n      <td>Variant A</td>\n      <td>37842776.0</td>\n    </tr>\n    <tr>\n      <th>...</th>\n      <td>...</td>\n      <td>...</td>\n    </tr>\n    <tr>\n      <th>21954</th>\n      <td>Control Group</td>\n      <td>9707224.0</td>\n    </tr>\n    <tr>\n      <th>21955</th>\n      <td>Control Group</td>\n      <td>34078324.0</td>\n    </tr>\n    <tr>\n      <th>21956</th>\n      <td>Control Group</td>\n      <td>30302042.0</td>\n    </tr>\n    <tr>\n      <th>21957</th>\n      <td>Control Group</td>\n      <td>33408883.0</td>\n    </tr>\n    <tr>\n      <th>21958</th>\n      <td>Control Group</td>\n      <td>34730051.0</td>\n    </tr>\n  </tbody>\n</table>\n<p>21959 rows × 2 columns</p>\n</div>"
     },
     "execution_count": 11,
     "metadata": {},
     "output_type": "execute_result"
    }
   ],
   "source": [
    "%%sql\n",
    "select *\n",
    "from dev_gsokolov.ab_users"
   ]
  },
  {
   "cell_type": "code",
   "outputs": [],
   "source": [
    "ab_users.to_csv(\"ab_users.csv\", index=False)"
   ],
   "metadata": {
    "collapsed": false,
    "ExecuteTime": {
     "end_time": "2024-03-15T12:03:33.996634Z",
     "start_time": "2024-03-15T12:03:33.832790Z"
    }
   },
   "id": "1348ae4792bd8223",
   "execution_count": 12
  },
  {
   "cell_type": "code",
   "execution_count": 73,
   "id": "7866e822bc343301",
   "metadata": {
    "SqlCellData": {
     "data_source_name": "DWH",
     "variableName$1": "user_deals"
    },
    "collapsed": false,
    "ExecuteTime": {
     "end_time": "2024-03-14T22:05:05.023061Z",
     "start_time": "2024-03-14T22:03:55.769787Z"
    }
   },
   "outputs": [
    {
     "data": {
      "text/plain": "         user_id        variant  operation_id symbol_name  cmd  volume  \\\n0       37884737      Variant A      19379176      FILUSD    0    1.00   \n1       19402383      Variant B      19139857      XAUUSD    0    0.05   \n2        6402253      Variant A      19411324      EURUSD    1    0.01   \n3        6402253      Variant B      19411324      EURUSD    1    0.01   \n4         422466  Control Group      19525372      USDJPY    0    0.03   \n...          ...            ...           ...         ...  ...     ...   \n809395  19475916      Variant A    4113166725      ETHUSD    0    0.03   \n809396  19475916      Variant A    4113087463      ETHUSD    1    0.03   \n809397  19475916      Variant A    4113166740      ETHUSD    0    0.03   \n809398  35336659  Control Group    4113210856      BTCUSD    0    0.01   \n809399  35336659  Control Group    4113129558      EURUSD    0    0.01   \n\n         open_price  close_price  profit                open_time_dt  \\\n0           8.79500          NaN     NaN  2024-03-05 22:18:32.934600   \n1        2085.40000          NaN     NaN  2024-03-04 07:24:24.868100   \n2           1.08630          NaN     NaN  2024-03-06 07:13:28.286300   \n3           1.08630          NaN     NaN  2024-03-06 07:13:28.286300   \n4         148.59500          NaN     NaN  2024-03-07 05:14:32.882600   \n...             ...          ...     ...                         ...   \n809395   3795.64000    3789.9900    1.70  2024-03-06 15:33:01.000000   \n809396   3829.49000    3830.2100    0.22  2024-03-06 09:01:17.000000   \n809397   3804.93000    3788.3400    4.98  2024-03-06 15:35:04.000000   \n809398  66755.32000   67355.6200   -6.00  2024-03-06 19:50:20.000000   \n809399      1.08733       1.0885   -1.17  2024-03-06 13:14:54.000000   \n\n                     close_time_dt   trade_day  \n0                              NaN  2024-03-05  \n1                              NaN  2024-03-04  \n2                              NaN  2024-03-06  \n3                              NaN  2024-03-06  \n4                              NaN  2024-03-07  \n...                            ...         ...  \n809395  2024-03-06 15:48:35.000000  2024-03-06  \n809396  2024-03-06 10:19:31.000000  2024-03-06  \n809397  2024-03-06 15:48:40.000000  2024-03-06  \n809398  2024-03-06 20:16:04.000000  2024-03-06  \n809399  2024-03-06 13:59:29.000000  2024-03-06  \n\n[809400 rows x 12 columns]",
      "text/html": "<div>\n<style scoped>\n    .dataframe tbody tr th:only-of-type {\n        vertical-align: middle;\n    }\n\n    .dataframe tbody tr th {\n        vertical-align: top;\n    }\n\n    .dataframe thead th {\n        text-align: right;\n    }\n</style>\n<table border=\"1\" class=\"dataframe\">\n  <thead>\n    <tr style=\"text-align: right;\">\n      <th></th>\n      <th>user_id</th>\n      <th>variant</th>\n      <th>operation_id</th>\n      <th>symbol_name</th>\n      <th>cmd</th>\n      <th>volume</th>\n      <th>open_price</th>\n      <th>close_price</th>\n      <th>profit</th>\n      <th>open_time_dt</th>\n      <th>close_time_dt</th>\n      <th>trade_day</th>\n    </tr>\n  </thead>\n  <tbody>\n    <tr>\n      <th>0</th>\n      <td>37884737</td>\n      <td>Variant A</td>\n      <td>19379176</td>\n      <td>FILUSD</td>\n      <td>0</td>\n      <td>1.00</td>\n      <td>8.79500</td>\n      <td>NaN</td>\n      <td>NaN</td>\n      <td>2024-03-05 22:18:32.934600</td>\n      <td>NaN</td>\n      <td>2024-03-05</td>\n    </tr>\n    <tr>\n      <th>1</th>\n      <td>19402383</td>\n      <td>Variant B</td>\n      <td>19139857</td>\n      <td>XAUUSD</td>\n      <td>0</td>\n      <td>0.05</td>\n      <td>2085.40000</td>\n      <td>NaN</td>\n      <td>NaN</td>\n      <td>2024-03-04 07:24:24.868100</td>\n      <td>NaN</td>\n      <td>2024-03-04</td>\n    </tr>\n    <tr>\n      <th>2</th>\n      <td>6402253</td>\n      <td>Variant A</td>\n      <td>19411324</td>\n      <td>EURUSD</td>\n      <td>1</td>\n      <td>0.01</td>\n      <td>1.08630</td>\n      <td>NaN</td>\n      <td>NaN</td>\n      <td>2024-03-06 07:13:28.286300</td>\n      <td>NaN</td>\n      <td>2024-03-06</td>\n    </tr>\n    <tr>\n      <th>3</th>\n      <td>6402253</td>\n      <td>Variant B</td>\n      <td>19411324</td>\n      <td>EURUSD</td>\n      <td>1</td>\n      <td>0.01</td>\n      <td>1.08630</td>\n      <td>NaN</td>\n      <td>NaN</td>\n      <td>2024-03-06 07:13:28.286300</td>\n      <td>NaN</td>\n      <td>2024-03-06</td>\n    </tr>\n    <tr>\n      <th>4</th>\n      <td>422466</td>\n      <td>Control Group</td>\n      <td>19525372</td>\n      <td>USDJPY</td>\n      <td>0</td>\n      <td>0.03</td>\n      <td>148.59500</td>\n      <td>NaN</td>\n      <td>NaN</td>\n      <td>2024-03-07 05:14:32.882600</td>\n      <td>NaN</td>\n      <td>2024-03-07</td>\n    </tr>\n    <tr>\n      <th>...</th>\n      <td>...</td>\n      <td>...</td>\n      <td>...</td>\n      <td>...</td>\n      <td>...</td>\n      <td>...</td>\n      <td>...</td>\n      <td>...</td>\n      <td>...</td>\n      <td>...</td>\n      <td>...</td>\n      <td>...</td>\n    </tr>\n    <tr>\n      <th>809395</th>\n      <td>19475916</td>\n      <td>Variant A</td>\n      <td>4113166725</td>\n      <td>ETHUSD</td>\n      <td>0</td>\n      <td>0.03</td>\n      <td>3795.64000</td>\n      <td>3789.9900</td>\n      <td>1.70</td>\n      <td>2024-03-06 15:33:01.000000</td>\n      <td>2024-03-06 15:48:35.000000</td>\n      <td>2024-03-06</td>\n    </tr>\n    <tr>\n      <th>809396</th>\n      <td>19475916</td>\n      <td>Variant A</td>\n      <td>4113087463</td>\n      <td>ETHUSD</td>\n      <td>1</td>\n      <td>0.03</td>\n      <td>3829.49000</td>\n      <td>3830.2100</td>\n      <td>0.22</td>\n      <td>2024-03-06 09:01:17.000000</td>\n      <td>2024-03-06 10:19:31.000000</td>\n      <td>2024-03-06</td>\n    </tr>\n    <tr>\n      <th>809397</th>\n      <td>19475916</td>\n      <td>Variant A</td>\n      <td>4113166740</td>\n      <td>ETHUSD</td>\n      <td>0</td>\n      <td>0.03</td>\n      <td>3804.93000</td>\n      <td>3788.3400</td>\n      <td>4.98</td>\n      <td>2024-03-06 15:35:04.000000</td>\n      <td>2024-03-06 15:48:40.000000</td>\n      <td>2024-03-06</td>\n    </tr>\n    <tr>\n      <th>809398</th>\n      <td>35336659</td>\n      <td>Control Group</td>\n      <td>4113210856</td>\n      <td>BTCUSD</td>\n      <td>0</td>\n      <td>0.01</td>\n      <td>66755.32000</td>\n      <td>67355.6200</td>\n      <td>-6.00</td>\n      <td>2024-03-06 19:50:20.000000</td>\n      <td>2024-03-06 20:16:04.000000</td>\n      <td>2024-03-06</td>\n    </tr>\n    <tr>\n      <th>809399</th>\n      <td>35336659</td>\n      <td>Control Group</td>\n      <td>4113129558</td>\n      <td>EURUSD</td>\n      <td>0</td>\n      <td>0.01</td>\n      <td>1.08733</td>\n      <td>1.0885</td>\n      <td>-1.17</td>\n      <td>2024-03-06 13:14:54.000000</td>\n      <td>2024-03-06 13:59:29.000000</td>\n      <td>2024-03-06</td>\n    </tr>\n  </tbody>\n</table>\n<p>809400 rows × 12 columns</p>\n</div>"
     },
     "execution_count": 73,
     "metadata": {},
     "output_type": "execute_result"
    }
   ],
   "source": [
    "%%sql\n",
    "select * from \n",
    "             dev_gsokolov.user_deals"
   ]
  },
  {
   "cell_type": "code",
   "execution_count": 3,
   "id": "9b7a21ef3014c916",
   "metadata": {
    "SqlCellData": {
     "data_source_name": "DWH",
     "variableName$1": "ab_stats"
    },
    "collapsed": false,
    "ExecuteTime": {
     "end_time": "2024-03-14T23:20:24.640957Z",
     "start_time": "2024-03-14T23:20:11.647726Z"
    }
   },
   "outputs": [
    {
     "data": {
      "text/plain": "          user_id        variant  deals_cnt  symbol_volume  eth_vol  \\\n0       3264150.0      Variant A          7           0.17      0.0   \n1      13080286.0      Variant A          5           0.05      0.0   \n2      24112335.0      Variant A         23           0.23      0.0   \n3       6295244.0      Variant A         18           0.18      0.0   \n4      10041125.0      Variant A          8           0.08      0.0   \n...           ...            ...        ...            ...      ...   \n21950   2470105.0  Control Group          0            NaN      0.0   \n21951  37273673.0  Control Group          0            NaN      0.0   \n21952  37236953.0  Control Group          0            NaN      0.0   \n21953  34664939.0  Control Group          0            NaN      0.0   \n21954  34579165.0  Control Group          0            NaN      0.0   \n\n      first_eth_date  eth_deals_cnt  converted  \n0                NaN              0          0  \n1                NaN              0          0  \n2                NaN              0          0  \n3                NaN              0          0  \n4                NaN              0          0  \n...              ...            ...        ...  \n21950            NaN              0          0  \n21951            NaN              0          0  \n21952            NaN              0          0  \n21953            NaN              0          0  \n21954            NaN              0          0  \n\n[21955 rows x 8 columns]",
      "text/html": "<div>\n<style scoped>\n    .dataframe tbody tr th:only-of-type {\n        vertical-align: middle;\n    }\n\n    .dataframe tbody tr th {\n        vertical-align: top;\n    }\n\n    .dataframe thead th {\n        text-align: right;\n    }\n</style>\n<table border=\"1\" class=\"dataframe\">\n  <thead>\n    <tr style=\"text-align: right;\">\n      <th></th>\n      <th>user_id</th>\n      <th>variant</th>\n      <th>deals_cnt</th>\n      <th>symbol_volume</th>\n      <th>eth_vol</th>\n      <th>first_eth_date</th>\n      <th>eth_deals_cnt</th>\n      <th>converted</th>\n    </tr>\n  </thead>\n  <tbody>\n    <tr>\n      <th>0</th>\n      <td>3264150.0</td>\n      <td>Variant A</td>\n      <td>7</td>\n      <td>0.17</td>\n      <td>0.0</td>\n      <td>NaN</td>\n      <td>0</td>\n      <td>0</td>\n    </tr>\n    <tr>\n      <th>1</th>\n      <td>13080286.0</td>\n      <td>Variant A</td>\n      <td>5</td>\n      <td>0.05</td>\n      <td>0.0</td>\n      <td>NaN</td>\n      <td>0</td>\n      <td>0</td>\n    </tr>\n    <tr>\n      <th>2</th>\n      <td>24112335.0</td>\n      <td>Variant A</td>\n      <td>23</td>\n      <td>0.23</td>\n      <td>0.0</td>\n      <td>NaN</td>\n      <td>0</td>\n      <td>0</td>\n    </tr>\n    <tr>\n      <th>3</th>\n      <td>6295244.0</td>\n      <td>Variant A</td>\n      <td>18</td>\n      <td>0.18</td>\n      <td>0.0</td>\n      <td>NaN</td>\n      <td>0</td>\n      <td>0</td>\n    </tr>\n    <tr>\n      <th>4</th>\n      <td>10041125.0</td>\n      <td>Variant A</td>\n      <td>8</td>\n      <td>0.08</td>\n      <td>0.0</td>\n      <td>NaN</td>\n      <td>0</td>\n      <td>0</td>\n    </tr>\n    <tr>\n      <th>...</th>\n      <td>...</td>\n      <td>...</td>\n      <td>...</td>\n      <td>...</td>\n      <td>...</td>\n      <td>...</td>\n      <td>...</td>\n      <td>...</td>\n    </tr>\n    <tr>\n      <th>21950</th>\n      <td>2470105.0</td>\n      <td>Control Group</td>\n      <td>0</td>\n      <td>NaN</td>\n      <td>0.0</td>\n      <td>NaN</td>\n      <td>0</td>\n      <td>0</td>\n    </tr>\n    <tr>\n      <th>21951</th>\n      <td>37273673.0</td>\n      <td>Control Group</td>\n      <td>0</td>\n      <td>NaN</td>\n      <td>0.0</td>\n      <td>NaN</td>\n      <td>0</td>\n      <td>0</td>\n    </tr>\n    <tr>\n      <th>21952</th>\n      <td>37236953.0</td>\n      <td>Control Group</td>\n      <td>0</td>\n      <td>NaN</td>\n      <td>0.0</td>\n      <td>NaN</td>\n      <td>0</td>\n      <td>0</td>\n    </tr>\n    <tr>\n      <th>21953</th>\n      <td>34664939.0</td>\n      <td>Control Group</td>\n      <td>0</td>\n      <td>NaN</td>\n      <td>0.0</td>\n      <td>NaN</td>\n      <td>0</td>\n      <td>0</td>\n    </tr>\n    <tr>\n      <th>21954</th>\n      <td>34579165.0</td>\n      <td>Control Group</td>\n      <td>0</td>\n      <td>NaN</td>\n      <td>0.0</td>\n      <td>NaN</td>\n      <td>0</td>\n      <td>0</td>\n    </tr>\n  </tbody>\n</table>\n<p>21955 rows × 8 columns</p>\n</div>"
     },
     "execution_count": 3,
     "metadata": {},
     "output_type": "execute_result"
    }
   ],
   "source": [
    "%%sql\n",
    "SELECT\n",
    "    ab.user_id\n",
    "     , ab.variant\n",
    "--      , DATE_TRUNC(d.open_time_dt, DAY) AS deal_day\n",
    "--      , d.symbol_name\n",
    "     , COUNT(DISTINCT d.operation_id) AS deals_cnt\n",
    "     , SUM(d.volume) AS symbol_volume\n",
    "     , SUM(CASE WHEN d.symbol_name = 'ETHUSD' THEN d.volume ELSE 0 END) as eth_vol\n",
    "     , MIN(CASE WHEN d.symbol_name = 'ETHUSD' THEN d.open_time_dt ELSE NULL END) as first_eth_date\n",
    "     , SUM(CASE WHEN d.symbol_name = 'ETHUSD' THEN 1 ELSE 0 END) as eth_deals_cnt\n",
    "     , IF(SUM(CASE WHEN d.symbol_name = 'ETHUSD' THEN 1 ELSE 0 END) > 0, 1, 0) AS converted\n",
    "FROM\n",
    "    dev_gsokolov.ab_users ab\n",
    "LEFT JOIN dev_gsokolov.user_deals d\n",
    "ON ab.user_id = d.user_id\n",
    "AND DATE(d.close_time_dt) BETWEEN '2024-03-05' AND '2024-03-10'\n",
    "-- AND DATE(d.close_time_dt) BETWEEN '2024-02-26' AND '2024-03-04'\n",
    "AND d.variant is not null\n",
    "GROUP BY\n",
    "    ab.user_id, ab.variant"
   ]
  },
  {
   "cell_type": "code",
   "execution_count": 4,
   "id": "a86add7c1faba583",
   "metadata": {
    "collapsed": false,
    "ExecuteTime": {
     "end_time": "2024-03-14T23:20:37.895324Z",
     "start_time": "2024-03-14T23:20:37.851416Z"
    }
   },
   "outputs": [],
   "source": [
    "ab_stats.to_csv(\"eth_deals_stats.csv\", index=False)\n",
    "ab_stats_filtered = ab_stats[ab_stats[\"deals_cnt\"] > 0]"
   ]
  },
  {
   "cell_type": "code",
   "execution_count": 8,
   "id": "1fa0b32a4b2dda5f",
   "metadata": {
    "collapsed": false,
    "ExecuteTime": {
     "end_time": "2024-03-14T23:39:10.102605Z",
     "start_time": "2024-03-14T23:39:10.062418Z"
    }
   },
   "outputs": [
    {
     "data": {
      "text/plain": "               user_count  avg_vol_ethusd  std_volume_ethusd  total_deals_eth  \\\nvariant                                                                         \nControl Group        8668          0.0527             1.2762             9518   \nVariant A            8430          0.0477             0.6766            13674   \nVariant B            4855          0.0435             0.6271             6500   \n\n               vol_eth  total_vol  total_converted  total_deals  \nvariant                                                          \nControl Group   456.43    8372.03              432       268100  \nVariant A       401.90    7739.66              449       260050  \nVariant B       211.07    4411.28              218       131449  ",
      "text/html": "<div>\n<style scoped>\n    .dataframe tbody tr th:only-of-type {\n        vertical-align: middle;\n    }\n\n    .dataframe tbody tr th {\n        vertical-align: top;\n    }\n\n    .dataframe thead th {\n        text-align: right;\n    }\n</style>\n<table border=\"1\" class=\"dataframe\">\n  <thead>\n    <tr style=\"text-align: right;\">\n      <th></th>\n      <th>user_count</th>\n      <th>avg_vol_ethusd</th>\n      <th>std_volume_ethusd</th>\n      <th>total_deals_eth</th>\n      <th>vol_eth</th>\n      <th>total_vol</th>\n      <th>total_converted</th>\n      <th>total_deals</th>\n    </tr>\n    <tr>\n      <th>variant</th>\n      <th></th>\n      <th></th>\n      <th></th>\n      <th></th>\n      <th></th>\n      <th></th>\n      <th></th>\n      <th></th>\n    </tr>\n  </thead>\n  <tbody>\n    <tr>\n      <th>Control Group</th>\n      <td>8668</td>\n      <td>0.0527</td>\n      <td>1.2762</td>\n      <td>9518</td>\n      <td>456.43</td>\n      <td>8372.03</td>\n      <td>432</td>\n      <td>268100</td>\n    </tr>\n    <tr>\n      <th>Variant A</th>\n      <td>8430</td>\n      <td>0.0477</td>\n      <td>0.6766</td>\n      <td>13674</td>\n      <td>401.90</td>\n      <td>7739.66</td>\n      <td>449</td>\n      <td>260050</td>\n    </tr>\n    <tr>\n      <th>Variant B</th>\n      <td>4855</td>\n      <td>0.0435</td>\n      <td>0.6271</td>\n      <td>6500</td>\n      <td>211.07</td>\n      <td>4411.28</td>\n      <td>218</td>\n      <td>131449</td>\n    </tr>\n  </tbody>\n</table>\n</div>"
     },
     "metadata": {},
     "output_type": "display_data"
    },
    {
     "data": {
      "text/plain": "               user_count  avg_vol_ethusd  std_volume_ethusd  total_deals_eth  \\\nvariant                                                                         \nControl Group        5807          0.0786             1.5587             9518   \nVariant A            5676          0.0708             0.8236            13674   \nVariant B            3344          0.0631             0.7548             6500   \n\n               vol_eth  total_vol  total_converted  total_deals  \nvariant                                                          \nControl Group   456.43    8372.03              432       268100  \nVariant A       401.90    7739.66              449       260050  \nVariant B       211.07    4411.28              218       131449  ",
      "text/html": "<div>\n<style scoped>\n    .dataframe tbody tr th:only-of-type {\n        vertical-align: middle;\n    }\n\n    .dataframe tbody tr th {\n        vertical-align: top;\n    }\n\n    .dataframe thead th {\n        text-align: right;\n    }\n</style>\n<table border=\"1\" class=\"dataframe\">\n  <thead>\n    <tr style=\"text-align: right;\">\n      <th></th>\n      <th>user_count</th>\n      <th>avg_vol_ethusd</th>\n      <th>std_volume_ethusd</th>\n      <th>total_deals_eth</th>\n      <th>vol_eth</th>\n      <th>total_vol</th>\n      <th>total_converted</th>\n      <th>total_deals</th>\n    </tr>\n    <tr>\n      <th>variant</th>\n      <th></th>\n      <th></th>\n      <th></th>\n      <th></th>\n      <th></th>\n      <th></th>\n      <th></th>\n      <th></th>\n    </tr>\n  </thead>\n  <tbody>\n    <tr>\n      <th>Control Group</th>\n      <td>5807</td>\n      <td>0.0786</td>\n      <td>1.5587</td>\n      <td>9518</td>\n      <td>456.43</td>\n      <td>8372.03</td>\n      <td>432</td>\n      <td>268100</td>\n    </tr>\n    <tr>\n      <th>Variant A</th>\n      <td>5676</td>\n      <td>0.0708</td>\n      <td>0.8236</td>\n      <td>13674</td>\n      <td>401.90</td>\n      <td>7739.66</td>\n      <td>449</td>\n      <td>260050</td>\n    </tr>\n    <tr>\n      <th>Variant B</th>\n      <td>3344</td>\n      <td>0.0631</td>\n      <td>0.7548</td>\n      <td>6500</td>\n      <td>211.07</td>\n      <td>4411.28</td>\n      <td>218</td>\n      <td>131449</td>\n    </tr>\n  </tbody>\n</table>\n</div>"
     },
     "metadata": {},
     "output_type": "display_data"
    }
   ],
   "source": [
    "# Calculations grouped by variant\n",
    "grouped_stats = (\n",
    "    ab_stats.groupby(\"variant\")\n",
    "    .agg(\n",
    "        user_count=pd.NamedAgg(column=\"user_id\", aggfunc=\"nunique\"),\n",
    "        avg_vol_ethusd=pd.NamedAgg(column=\"eth_vol\", aggfunc=\"mean\"),\n",
    "        std_volume_ethusd=pd.NamedAgg(column=\"eth_vol\", aggfunc=lambda x: x.std()),\n",
    "        total_deals_eth=pd.NamedAgg(column=\"eth_deals_cnt\", aggfunc=\"sum\"),\n",
    "        vol_eth=pd.NamedAgg(column=\"eth_vol\", aggfunc=\"sum\"),\n",
    "        total_vol=pd.NamedAgg(column=\"symbol_volume\", aggfunc=\"sum\"),\n",
    "        total_converted=pd.NamedAgg(column=\"converted\", aggfunc=\"sum\"),\n",
    "        total_deals=pd.NamedAgg(column=\"deals_cnt\", aggfunc=\"sum\"),\n",
    "    )\n",
    "    .round(4)\n",
    ")\n",
    "grouped_stats_filtered = (\n",
    "    ab_stats_filtered.groupby(\"variant\")\n",
    "    .agg(\n",
    "        user_count=pd.NamedAgg(column=\"user_id\", aggfunc=\"nunique\"),\n",
    "        avg_vol_ethusd=pd.NamedAgg(column=\"eth_vol\", aggfunc=\"mean\"),\n",
    "        std_volume_ethusd=pd.NamedAgg(column=\"eth_vol\", aggfunc=lambda x: x.std()),\n",
    "        total_deals_eth=pd.NamedAgg(column=\"eth_deals_cnt\", aggfunc=\"sum\"),\n",
    "        vol_eth=pd.NamedAgg(column=\"eth_vol\", aggfunc=\"sum\"),\n",
    "        total_vol=pd.NamedAgg(column=\"symbol_volume\", aggfunc=\"sum\"),\n",
    "        total_converted=pd.NamedAgg(column=\"converted\", aggfunc=\"sum\"),\n",
    "        total_deals=pd.NamedAgg(column=\"deals_cnt\", aggfunc=\"sum\"),\n",
    "    )\n",
    "    .round(4)\n",
    ")\n",
    "\n",
    "# display(grouped_stats.reset_index())\n",
    "display(grouped_stats)\n",
    "display(grouped_stats_filtered)"
   ]
  },
  {
   "cell_type": "code",
   "execution_count": 9,
   "id": "d21ce75dc19b7389",
   "metadata": {
    "collapsed": false,
    "ExecuteTime": {
     "end_time": "2024-03-14T23:44:22.733706Z",
     "start_time": "2024-03-14T23:44:22.722441Z"
    }
   },
   "outputs": [],
   "source": [
    "grouped_stats.reset_index(\"variant\").to_csv(\"eth_promo.csv\", index=False)\n",
    "grouped_stats_filtered.reset_index(\"variant\").to_csv(\n",
    "    \"eth_promo_filtered.csv\", index=False\n",
    ")"
   ]
  },
  {
   "cell_type": "markdown",
   "id": "804af03e2ca34ff0",
   "metadata": {
    "collapsed": false
   },
   "source": [
    "| variant       | user_count | avg_vol_ethusd | std_volume_ethusd | total_deals_eth | vol_eth | total_vol | total_converted | total_deals |\n",
    "| ------------- | ---------- | -------------- | ----------------- | --------------- | ------- | --------- | --------------- | ----------- |\n",
    "| Control Group | 8668       | 0.06           | 1.37              | 10709           | 517.33  | 10081.71  | 468             | 324543      |\n",
    "| Variant A     | 8430       | 0.05           | 0.78              | 15369           | 457.84  | 9260.24   | 482             | 315362      |\n",
    "| Variant B     | 4855       | 0.05           | 0.71              | 7447            | 238.41  | 5295.92   | 224             | 156530      |\n"
   ]
  },
  {
   "cell_type": "code",
   "execution_count": 34,
   "id": "120036387dc8e69b",
   "metadata": {
    "ExecuteTime": {
     "end_time": "2024-03-14T19:12:33.743543Z",
     "start_time": "2024-03-14T19:12:19.877077Z"
    },
    "collapsed": false
   },
   "outputs": [
    {
     "name": "stdout",
     "output_type": "stream",
     "text": [
      "Requirement already satisfied: nbconvert in /Users/gsokolov/anaconda3/lib/python3.11/site-packages (7.10.0)\n",
      "Requirement already satisfied: beautifulsoup4 in /Users/gsokolov/anaconda3/lib/python3.11/site-packages (from nbconvert) (4.12.3)\n",
      "Requirement already satisfied: bleach!=5.0.0 in /Users/gsokolov/anaconda3/lib/python3.11/site-packages (from nbconvert) (4.1.0)\n",
      "Requirement already satisfied: defusedxml in /Users/gsokolov/anaconda3/lib/python3.11/site-packages (from nbconvert) (0.7.1)\n",
      "Requirement already satisfied: jinja2>=3.0 in /Users/gsokolov/anaconda3/lib/python3.11/site-packages (from nbconvert) (3.1.3)\n",
      "Requirement already satisfied: jupyter-core>=4.7 in /Users/gsokolov/anaconda3/lib/python3.11/site-packages (from nbconvert) (5.5.0)\n",
      "Requirement already satisfied: jupyterlab-pygments in /Users/gsokolov/anaconda3/lib/python3.11/site-packages (from nbconvert) (0.1.2)\n",
      "Requirement already satisfied: markupsafe>=2.0 in /Users/gsokolov/anaconda3/lib/python3.11/site-packages (from nbconvert) (2.1.3)\n",
      "Requirement already satisfied: mistune<4,>=2.0.3 in /Users/gsokolov/anaconda3/lib/python3.11/site-packages (from nbconvert) (2.0.4)\n",
      "Requirement already satisfied: nbclient>=0.5.0 in /Users/gsokolov/anaconda3/lib/python3.11/site-packages (from nbconvert) (0.8.0)\n",
      "Requirement already satisfied: nbformat>=5.7 in /Users/gsokolov/anaconda3/lib/python3.11/site-packages (from nbconvert) (5.9.2)\n",
      "Requirement already satisfied: packaging in /Users/gsokolov/anaconda3/lib/python3.11/site-packages (from nbconvert) (24.0)\n",
      "Requirement already satisfied: pandocfilters>=1.4.1 in /Users/gsokolov/anaconda3/lib/python3.11/site-packages (from nbconvert) (1.5.0)\n",
      "Requirement already satisfied: pygments>=2.4.1 in /Users/gsokolov/anaconda3/lib/python3.11/site-packages (from nbconvert) (2.15.1)\n",
      "Requirement already satisfied: tinycss2 in /Users/gsokolov/anaconda3/lib/python3.11/site-packages (from nbconvert) (1.2.1)\n",
      "Requirement already satisfied: traitlets>=5.1 in /Users/gsokolov/anaconda3/lib/python3.11/site-packages (from nbconvert) (5.7.1)\n",
      "Requirement already satisfied: six>=1.9.0 in /Users/gsokolov/anaconda3/lib/python3.11/site-packages (from bleach!=5.0.0->nbconvert) (1.16.0)\n",
      "Requirement already satisfied: webencodings in /Users/gsokolov/anaconda3/lib/python3.11/site-packages (from bleach!=5.0.0->nbconvert) (0.5.1)\n",
      "Requirement already satisfied: platformdirs>=2.5 in /Users/gsokolov/anaconda3/lib/python3.11/site-packages (from jupyter-core>=4.7->nbconvert) (2.6.2)\n",
      "Requirement already satisfied: jupyter-client>=6.1.12 in /Users/gsokolov/anaconda3/lib/python3.11/site-packages (from nbclient>=0.5.0->nbconvert) (8.6.0)\n",
      "Requirement already satisfied: fastjsonschema in /Users/gsokolov/anaconda3/lib/python3.11/site-packages (from nbformat>=5.7->nbconvert) (2.19.1)\n",
      "Requirement already satisfied: jsonschema>=2.6 in /Users/gsokolov/anaconda3/lib/python3.11/site-packages (from nbformat>=5.7->nbconvert) (4.19.2)\n",
      "Requirement already satisfied: soupsieve>1.2 in /Users/gsokolov/anaconda3/lib/python3.11/site-packages (from beautifulsoup4->nbconvert) (2.5)\n",
      "Requirement already satisfied: attrs>=22.2.0 in /Users/gsokolov/anaconda3/lib/python3.11/site-packages (from jsonschema>=2.6->nbformat>=5.7->nbconvert) (23.2.0)\n",
      "Requirement already satisfied: jsonschema-specifications>=2023.03.6 in /Users/gsokolov/anaconda3/lib/python3.11/site-packages (from jsonschema>=2.6->nbformat>=5.7->nbconvert) (2023.7.1)\n",
      "Requirement already satisfied: referencing>=0.28.4 in /Users/gsokolov/anaconda3/lib/python3.11/site-packages (from jsonschema>=2.6->nbformat>=5.7->nbconvert) (0.30.2)\n",
      "Requirement already satisfied: rpds-py>=0.7.1 in /Users/gsokolov/anaconda3/lib/python3.11/site-packages (from jsonschema>=2.6->nbformat>=5.7->nbconvert) (0.10.6)\n",
      "Requirement already satisfied: python-dateutil>=2.8.2 in /Users/gsokolov/anaconda3/lib/python3.11/site-packages (from jupyter-client>=6.1.12->nbclient>=0.5.0->nbconvert) (2.9.0.post0)\n",
      "Requirement already satisfied: pyzmq>=23.0 in /Users/gsokolov/anaconda3/lib/python3.11/site-packages (from jupyter-client>=6.1.12->nbclient>=0.5.0->nbconvert) (25.1.2)\n",
      "Requirement already satisfied: tornado>=6.2 in /Users/gsokolov/anaconda3/lib/python3.11/site-packages (from jupyter-client>=6.1.12->nbclient>=0.5.0->nbconvert) (6.3.3)\n",
      "Requirement already satisfied: ipython in /Users/gsokolov/anaconda3/lib/python3.11/site-packages (8.20.0)\n",
      "Requirement already satisfied: decorator in /Users/gsokolov/anaconda3/lib/python3.11/site-packages (from ipython) (5.1.1)\n",
      "Requirement already satisfied: jedi>=0.16 in /Users/gsokolov/anaconda3/lib/python3.11/site-packages (from ipython) (0.18.1)\n",
      "Requirement already satisfied: matplotlib-inline in /Users/gsokolov/anaconda3/lib/python3.11/site-packages (from ipython) (0.1.6)\n",
      "Requirement already satisfied: prompt-toolkit<3.1.0,>=3.0.41 in /Users/gsokolov/anaconda3/lib/python3.11/site-packages (from ipython) (3.0.43)\n",
      "Requirement already satisfied: pygments>=2.4.0 in /Users/gsokolov/anaconda3/lib/python3.11/site-packages (from ipython) (2.15.1)\n",
      "Requirement already satisfied: stack-data in /Users/gsokolov/anaconda3/lib/python3.11/site-packages (from ipython) (0.2.0)\n",
      "Requirement already satisfied: traitlets>=5 in /Users/gsokolov/anaconda3/lib/python3.11/site-packages (from ipython) (5.7.1)\n",
      "Requirement already satisfied: pexpect>4.3 in /Users/gsokolov/anaconda3/lib/python3.11/site-packages (from ipython) (4.8.0)\n",
      "Requirement already satisfied: parso<0.9.0,>=0.8.0 in /Users/gsokolov/anaconda3/lib/python3.11/site-packages (from jedi>=0.16->ipython) (0.8.3)\n",
      "Requirement already satisfied: ptyprocess>=0.5 in /Users/gsokolov/anaconda3/lib/python3.11/site-packages (from pexpect>4.3->ipython) (0.7.0)\n",
      "Requirement already satisfied: wcwidth in /Users/gsokolov/anaconda3/lib/python3.11/site-packages (from prompt-toolkit<3.1.0,>=3.0.41->ipython) (0.2.5)\n",
      "Requirement already satisfied: executing in /Users/gsokolov/anaconda3/lib/python3.11/site-packages (from stack-data->ipython) (0.8.3)\n",
      "Requirement already satisfied: asttokens in /Users/gsokolov/anaconda3/lib/python3.11/site-packages (from stack-data->ipython) (2.0.5)\n",
      "Requirement already satisfied: pure-eval in /Users/gsokolov/anaconda3/lib/python3.11/site-packages (from stack-data->ipython) (0.2.2)\n",
      "Requirement already satisfied: six in /Users/gsokolov/anaconda3/lib/python3.11/site-packages (from asttokens->stack-data->ipython) (1.16.0)\n",
      "Requirement already satisfied: ipynb in /Users/gsokolov/anaconda3/lib/python3.11/site-packages (0.5.1)\n"
     ]
    },
    {
     "name": "stderr",
     "output_type": "stream",
     "text": [
      "[NbConvertApp] WARNING | pattern ' --clear-output' matched no files\n",
      "[NbConvertApp] Converting notebook /Users/gsokolov/Library/CloudStorage/GoogleDrive-gsokolov@ourgapps.com/My Drive/Code/ETH Promo Design.ipynb to script\n",
      "[NbConvertApp] Writing 9044 bytes to /Users/gsokolov/Library/CloudStorage/GoogleDrive-gsokolov@ourgapps.com/My Drive/Code/ETH Promo Design.py\n"
     ]
    }
   ],
   "source": [
    "%%bash\n",
    "pip install nbconvert\n",
    "pip install ipython\n",
    "pip install ipynb\n",
    "\n",
    "jupyter nbconvert --to script \"/Users/gsokolov/Library/CloudStorage/GoogleDrive-gsokolov@ourgapps.com/My Drive/Code/ETH Promo Design.ipynb\" \\ --clear-output --allow-errors"
   ]
  },
  {
   "cell_type": "markdown",
   "id": "3d52191be5ab7117",
   "metadata": {
    "collapsed": false
   },
   "source": []
  }
 ],
 "metadata": {
  "kernelspec": {
   "display_name": "Python 3 (ipykernel)",
   "language": "python",
   "name": "python3"
  },
  "language_info": {
   "codemirror_mode": {
    "name": "ipython",
    "version": 3
   },
   "file_extension": ".py",
   "mimetype": "text/x-python",
   "name": "python",
   "nbconvert_exporter": "python",
   "pygments_lexer": "ipython3",
   "version": "3.11.7"
  }
 },
 "nbformat": 4,
 "nbformat_minor": 5
}
