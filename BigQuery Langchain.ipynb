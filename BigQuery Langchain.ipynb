{
 "cells": [
  {
   "cell_type": "markdown",
   "metadata": {
    "id": "JC-MmNMBhJoF"
   },
   "source": [
    "# Dependencies"
   ]
  },
  {
   "cell_type": "code",
   "execution_count": 17,
   "metadata": {},
   "outputs": [],
   "source": [
    "import sys\n",
    "from tqdm.notebook import tqdm"
   ]
  },
  {
   "cell_type": "code",
   "execution_count": 3,
   "metadata": {
    "collapsed": true,
    "id": "_FIuEcjrB85K"
   },
   "outputs": [
    {
     "name": "stdout",
     "output_type": "stream",
     "text": [
      "\u001b[31mERROR: pip's dependency resolver does not currently take into account all the packages that are installed. This behaviour is the source of the following dependency conflicts.\n",
      "datasets 2.12.0 requires dill<0.3.7,>=0.3.0, but you have dill 0.3.8 which is incompatible.\u001b[0m\u001b[31m\n",
      "\u001b[0mzsh:1: no matches found: google-cloud-bigquery[pandas]\n"
     ]
    }
   ],
   "source": [
    "!{sys.executable} -m pip install langchain==0.0.340 --quiet\n",
    "!{sys.executable} -m pip install chromadb==0.4.13 --quiet\n",
    "!{sys.executable} -m pip install google-cloud-aiplatform --quiet"
   ]
  },
  {
   "cell_type": "markdown",
   "metadata": {
    "id": "j3AiF1f2Uxu6"
   },
   "source": [
    "# BigQuery configuration\n",
    "\n",
    "Don't change these options. These are the public datasets used in this workshop."
   ]
  },
  {
   "cell_type": "code",
   "execution_count": 5,
   "metadata": {
    "cellView": "form",
    "id": "Hk57x-JuSbCP"
   },
   "outputs": [],
   "source": [
    "BIGQUERY_DATASET = \"wh_raw\"\n",
    "BIGQUERY_PROJECT = \"analytics-147612\""
   ]
  },
  {
   "cell_type": "code",
   "execution_count": null,
   "metadata": {},
   "outputs": [],
   "source": [
    "from google.oauth2 import service_account"
   ]
  },
  {
   "cell_type": "markdown",
   "metadata": {
    "id": "VRZNjRJ4buAp"
   },
   "source": [
    "# Schemas as context for the prompt"
   ]
  },
  {
   "cell_type": "code",
   "execution_count": 7,
   "metadata": {
    "id": "YKt25sJNV0zW"
   },
   "outputs": [
    {
     "name": "stderr",
     "output_type": "stream",
     "text": [
      "/Users/gsokolov/anaconda3/lib/python3.11/site-packages/google/auth/_default.py:78: UserWarning: Your application has authenticated using end user credentials from Google Cloud SDK without a quota project. You might receive a \"quota exceeded\" or \"API not enabled\" error. See the following page for troubleshooting: https://cloud.google.com/docs/authentication/adc-troubleshooting/user-creds. \n",
      "  warnings.warn(_CLOUD_SDK_CREDENTIALS_WARNING)\n"
     ]
    }
   ],
   "source": [
    "import json\n",
    "from google.cloud import bigquery\n",
    "\n",
    "project = \"analytics-147612\"\n",
    "location = \"EU\"\n",
    "bq_client = bigquery.Client(project=project, location=location)"
   ]
  },
  {
   "cell_type": "code",
   "execution_count": 18,
   "metadata": {},
   "outputs": [
    {
     "data": {
      "application/vnd.jupyter.widget-view+json": {
       "model_id": "d6c2e48ff87744d0b1fa02dbe4e8b94b",
       "version_major": 2,
       "version_minor": 0
      },
      "text/plain": [
       "0it [00:00, ?it/s]"
      ]
     },
     "metadata": {},
     "output_type": "display_data"
    },
    {
     "name": "stdout",
     "output_type": "stream",
     "text": [
      "Found 1464 tables in dataset analytics-147612:wh_raw\n"
     ]
    }
   ],
   "source": [
    "bq_tables = bq_client.list_tables(dataset=f\"{BIGQUERY_PROJECT}.{BIGQUERY_DATASET}\")\n",
    "schemas = []\n",
    "for bq_table in tqdm(bq_tables):\n",
    "    t = bq_client.get_table(\n",
    "        f\"{BIGQUERY_PROJECT}.{BIGQUERY_DATASET}.{bq_table.table_id}\"\n",
    "    )\n",
    "    schema_fields = [f.to_api_repr() for f in t.schema]\n",
    "    schema = f\"The schema for table {bq_table.table_id} is the following: \\n```{json.dumps(schema_fields, indent=1)}```\"\n",
    "    schemas.append(schema)\n",
    "\n",
    "print(f\"Found {len(schemas)} tables in dataset {BIGQUERY_PROJECT}:{BIGQUERY_DATASET}\")"
   ]
  },
  {
   "cell_type": "markdown",
   "metadata": {
    "id": "DpmSCQ7QZSAY"
   },
   "source": [
    "# Vector store\n",
    "\n",
    "We add the schemas as documents to a vector store, to be added to the prompt later.\n",
    "\n",
    "We will retrieve only one document from the store for the prompt: the most relevant doc."
   ]
  },
  {
   "cell_type": "code",
   "execution_count": null,
   "metadata": {},
   "outputs": [],
   "source": [
    "import openai\n",
    "from langchain.embeddings import (\n",
    "    OpenAIEmbeddings,\n",
    ")  # This is hypothetical; adjustments may be necessary\n",
    "from langchain.vectorstores import Chroma\n",
    "\n",
    "# Assuming you have set up OpenAI API key in your environment variables\n",
    "# or you can set it manually as follows:\n",
    "# openai.api_key = \"your-api-key-here\"\n",
    "\n",
    "embeddings = OpenAIEmbeddings(\n",
    "    api_key=openai.api_key\n",
    ")  # Adjust according to actual implementation\n",
    "\n",
    "# Initialize the vector store, assuming Chroma can be used similarly with OpenAI embeddings\n",
    "try:  # Avoid duplicated documents\n",
    "    vector_store.delete_collection()\n",
    "except:\n",
    "    print(\"No need to clean the vector store\")\n",
    "vector_store = Chroma.from_texts(schemas, embedding=embeddings)\n",
    "\n",
    "n_docs = len(vector_store.get()[\"ids\"])\n",
    "retriever = vector_store.as_retriever(search_kwargs={\"k\": 1})\n",
    "print(f\"The vector store has {n_docs} documents\")"
   ]
  },
  {
   "cell_type": "code",
   "execution_count": null,
   "metadata": {
    "id": "rd-NuT9McjDd"
   },
   "outputs": [],
   "source": [
    "from langchain.embeddings import VertexAIEmbeddings\n",
    "from langchain.vectorstores import Chroma\n",
    "\n",
    "embeddings = VertexAIEmbeddings()\n",
    "try:  # Avoid duplicated documents\n",
    "    vector_store.delete_collection()\n",
    "except:\n",
    "    print(\"No need to clean the vector store\")\n",
    "vector_store = Chroma.from_texts(schemas, embedding=embeddings)\n",
    "n_docs = len(vector_store.get()[\"ids\"])\n",
    "retriever = vector_store.as_retriever(search_kwargs={\"k\": 1})\n",
    "print(f\"The vector store has {n_docs} documents\")"
   ]
  },
  {
   "cell_type": "markdown",
   "metadata": {
    "id": "mY8OpGPMyeWZ"
   },
   "source": [
    "# Models"
   ]
  },
  {
   "cell_type": "code",
   "execution_count": null,
   "metadata": {
    "id": "MD08GTeYyftN"
   },
   "outputs": [],
   "source": [
    "from langchain.chat_models import ChatVertexAI\n",
    "from langchain.llms import VertexAI\n",
    "\n",
    "query_model = ChatVertexAI(model_name=\"codechat-bison\", max_output_tokens=2048)\n",
    "interpret_data_model = ChatVertexAI(max_output_tokens=2048)\n",
    "agent_model = ChatVertexAI(max_output_tokens=1024)"
   ]
  },
  {
   "cell_type": "markdown",
   "metadata": {
    "id": "kTJX0iLTwmcM"
   },
   "source": [
    "# Get a SQL query chain"
   ]
  },
  {
   "cell_type": "code",
   "execution_count": null,
   "metadata": {
    "id": "Ti1xFJdMwyh5"
   },
   "outputs": [],
   "source": [
    "SQL_PROMPT = \"\"\"You are a SQL and BigQuery expert.\n",
    "\n",
    "Your job is to create a query for BigQuery in SQL.\n",
    "\n",
    "The following paragraph contains the schema of the table used for a query. It is encoded in JSON format.\n",
    "\n",
    "{context}\n",
    "\n",
    "Create a BigQuery SQL query for the following user input, using the above table.\n",
    "\n",
    "The user and the agent have done this conversation so far:\n",
    "{chat_history}\n",
    "\n",
    "Follow these restrictions strictly:\n",
    "- Only return the SQL code.\n",
    "- Do not add backticks or any markup. Only write the query as output. NOTHING ELSE.\n",
    "- In FROM, always use the full table path, using `{project}` as project and `{dataset}` as dataset.\n",
    "- Always transform country names to full uppercase. For instance, if the country is Japan, you should use JAPAN in the query.\n",
    "\n",
    "User input: {question}\n",
    "\n",
    "SQL query:\n",
    "\"\"\""
   ]
  },
  {
   "cell_type": "code",
   "execution_count": null,
   "metadata": {
    "id": "lHMBqcbzOa51"
   },
   "outputs": [],
   "source": [
    "from langchain.schema.vectorstore import VectorStoreRetriever\n",
    "\n",
    "\n",
    "def get_documents(retriever: VectorStoreRetriever, question: str) -> str:\n",
    "    # Return only the first document\n",
    "    output = \"\"\n",
    "    for d in retriever.get_relevant_documents(question):\n",
    "        output += d.page_content\n",
    "        output += \"\\n\"\n",
    "        return output"
   ]
  },
  {
   "cell_type": "code",
   "execution_count": null,
   "metadata": {
    "id": "ZOBYThDvGiTb"
   },
   "outputs": [],
   "source": [
    "from operator import itemgetter\n",
    "from langchain.prompts import PromptTemplate\n",
    "from langchain.schema import StrOutputParser\n",
    "\n",
    "# Write a chain of name query\n",
    "### TODO\n",
    "### TODO\n",
    "### TODO\n",
    "### TODO\n",
    "### TODO"
   ]
  },
  {
   "cell_type": "code",
   "execution_count": null,
   "metadata": {
    "collapsed": true,
    "id": "u4neRJw4HwgA"
   },
   "outputs": [],
   "source": [
    "from langchain.callbacks.tracers import ConsoleCallbackHandler\n",
    "\n",
    "# Example\n",
    "x = {\n",
    "    \"input\": \"Which countries in Asia had more houses damaged? Give me the top 3\",\n",
    "    \"chat_history\": \"\",\n",
    "}\n",
    "print(query.invoke(x, config={\"callbacks\": [ConsoleCallbackHandler()]}))"
   ]
  },
  {
   "cell_type": "markdown",
   "metadata": {
    "id": "85Zha4ZCQFSU"
   },
   "source": [
    "# Add more outputs to the previous chain"
   ]
  },
  {
   "cell_type": "code",
   "execution_count": null,
   "metadata": {
    "id": "WEdgWhHnQJBe"
   },
   "outputs": [],
   "source": [
    "from langchain.output_parsers import ResponseSchema, StructuredOutputParser\n",
    "from langchain.schema.runnable import RunnableLambda\n",
    "\n",
    "\n",
    "def _dict_to_json(x: dict) -> str:\n",
    "    return \"```\\n\" + json.dumps(x) + \"\\n```\"\n",
    "\n",
    "\n",
    "query_response_schema = [\n",
    "    ResponseSchema(name=\"query\", description=\"SQL query to solve the user question.\"),\n",
    "    ResponseSchema(name=\"question\", description=\"Question asked by the user.\"),\n",
    "    ResponseSchema(\n",
    "        name=\"context\", description=\"Documents retrieved from the vector store.\"\n",
    "    ),\n",
    "]\n",
    "query_output_parser = StructuredOutputParser.from_response_schemas(\n",
    "    query_response_schema\n",
    ")\n",
    "query_output_json = (\n",
    "    docs\n",
    "    | question\n",
    "    | {\"query\": query}\n",
    "    | RunnableLambda(_dict_to_json)\n",
    "    | StrOutputParser()\n",
    ")\n",
    "query_output = query_output_json | query_output_parser"
   ]
  },
  {
   "cell_type": "code",
   "execution_count": null,
   "metadata": {
    "collapsed": true,
    "id": "MCQTMjDvQXeu"
   },
   "outputs": [],
   "source": [
    "# Example\n",
    "x = {\n",
    "    \"input\": \"Which countries in Asia had more houses damaged? Give me the top 3\",\n",
    "    \"chat_history\": \"\",\n",
    "}\n",
    "query_output.invoke(x)  # Output is now a dictionary, input for the next chain"
   ]
  },
  {
   "cell_type": "markdown",
   "metadata": {
    "id": "q7mvJMXqOML9"
   },
   "source": [
    "# Interpret the output chain"
   ]
  },
  {
   "cell_type": "code",
   "execution_count": null,
   "metadata": {
    "id": "TA4nJ2OTP8ej"
   },
   "outputs": [],
   "source": [
    "INTERPRET_PROMPT = \"\"\"You are a BigQuery expert. You are also expert in extracting data from CSV.\n",
    "\n",
    "The following paragraph describes the schema of the table used for a query. It is encoded in JSON format.\n",
    "\n",
    "{context}\n",
    "\n",
    "A user asked this question:\n",
    "{question}\n",
    "\n",
    "To find the answer, the following SQL query was run in BigQuery:\n",
    "```\n",
    "{query}\n",
    "```\n",
    "\n",
    "The result of that query was the following table in CSV format:\n",
    "```\n",
    "{result}\n",
    "```\n",
    "\n",
    "Based on those results, provide a brief answer to the user question.\n",
    "\n",
    "Follow these restrictions strictly:\n",
    "- Do not add any explanation about how the answer is obtained, just write the answer.\n",
    "- Extract any value related to the answer only from the result of the query. Do not use any other data source.\n",
    "- Just write the answer, omit the question from your answer, this is a chat, just provide the answer.\n",
    "- If you cannot find the answer in the result, do not make up any data, just say \"I cannot find the answer\"\n",
    "\"\"\""
   ]
  },
  {
   "cell_type": "code",
   "execution_count": null,
   "metadata": {
    "id": "pFeZ8zvwQAPD"
   },
   "outputs": [],
   "source": [
    "from google.cloud import bigquery\n",
    "\n",
    "\n",
    "def get_bq_csv(bq_client: bigquery.Client, query: str) -> str:\n",
    "    df = bq_client.query(query, location=\"US\").to_dataframe()\n",
    "    return df.to_csv(index=False)"
   ]
  },
  {
   "cell_type": "code",
   "execution_count": null,
   "metadata": {
    "id": "xtbGdTCDUlLz"
   },
   "outputs": [],
   "source": [
    "# Get the output of the previous chain\n",
    "\n",
    "# Write a chain of name run_bq_result\n",
    "### TODO\n",
    "### TODO\n",
    "### TODO\n",
    "### TODO\n",
    "### TODO"
   ]
  },
  {
   "cell_type": "code",
   "execution_count": null,
   "metadata": {
    "id": "Rjzena1YVFwN"
   },
   "outputs": [],
   "source": [
    "# Example\n",
    "x = {\n",
    "    \"input\": \"Which countries in Asia had more houses damaged? Give me the top 3\",\n",
    "    \"chat_history\": \"\",\n",
    "}\n",
    "print(run_bq_result.invoke(query_output.invoke(x)))"
   ]
  },
  {
   "cell_type": "markdown",
   "metadata": {
    "id": "Pj3XlntDVzV2"
   },
   "source": [
    "# Agent: putting everything together"
   ]
  },
  {
   "cell_type": "code",
   "execution_count": null,
   "metadata": {
    "id": "E_89yVG3axiN"
   },
   "outputs": [],
   "source": [
    "from langchain.memory import ConversationBufferWindowMemory\n",
    "\n",
    "agent_memory = ConversationBufferWindowMemory(\n",
    "    memory_key=\"chat_history\", k=10, return_messages=True\n",
    ")"
   ]
  },
  {
   "cell_type": "code",
   "execution_count": null,
   "metadata": {
    "id": "31F8tq_tXLsc"
   },
   "outputs": [],
   "source": [
    "AGENT_PROMPT = \"\"\"You are a very powerful assistant that can answer questions using BigQuery.\n",
    "\n",
    "You can invoke the tool user_question_tool to answer questions using BigQuery.\n",
    "\n",
    "You can invoke the tool Calculator if you need to do mathematical operations.\n",
    "\n",
    "Always use the tools to try to answer the questions. Use the chat history for context. Never try to use any other external information.\n",
    "\n",
    "Assume that the user may write with misspellings, fix the spelling of the user before passing the question to any tool.\n",
    "\n",
    "Don't mention what tool you have used in your answer.\n",
    "\"\"\""
   ]
  },
  {
   "cell_type": "code",
   "execution_count": null,
   "metadata": {
    "id": "R8X1LGzzXUcw"
   },
   "outputs": [],
   "source": [
    "from langchain import LLMMathChain\n",
    "from langchain.tools import Tool\n",
    "\n",
    "math_chain = LLMMathChain.from_llm(llm=agent_model)\n",
    "math_tool = Tool(\n",
    "    name=\"Calculator\",\n",
    "    description=\"Useful for when you need to answer questions about math.\",\n",
    "    func=math_chain.run,\n",
    "    coroutine=math_chain.arun,\n",
    ")"
   ]
  },
  {
   "cell_type": "code",
   "execution_count": null,
   "metadata": {
    "id": "xJ8UAYRKYC_j"
   },
   "outputs": [],
   "source": [
    "from langchain.tools import tool\n",
    "from langchain.callbacks.tracers import ConsoleCallbackHandler\n",
    "\n",
    "\n",
    "@tool\n",
    "def user_question_tool(question) -> str:\n",
    "    \"\"\"Useful to answer natural language questions from users using BigQuery.\"\"\"\n",
    "    config = {\"callbacks\": [ConsoleCallbackHandler()]}\n",
    "    memory = agent_memory.buffer_as_str.strip()\n",
    "    question = {\"input\": question, \"chat_history\": memory}\n",
    "    result = run_bq_result.invoke(\n",
    "        query_output.invoke(question, config=config), config=config\n",
    "    )\n",
    "    return result.strip()"
   ]
  },
  {
   "cell_type": "code",
   "execution_count": null,
   "metadata": {
    "id": "lkKHQn3baaEi"
   },
   "outputs": [],
   "source": [
    "from langchain.agents import AgentType, initialize_agent, AgentExecutor\n",
    "\n",
    "agent_kwgards = {\"system_message\": AGENT_PROMPT}\n",
    "agent_tools = [math_tool, user_question_tool]\n",
    "\n",
    "agent_memory.clear()\n",
    "\n",
    "# Fill the missing options\n",
    "agent = initialize_agent(\n",
    "    ### TODO\n",
    "    ### TODO\n",
    "    ### TODO\n",
    "    agent_kwgards=agent_kwgards,\n",
    "    max_iterations=5,\n",
    "    early_stopping_method=\"generate\",\n",
    "    verbose=True,\n",
    ")"
   ]
  },
  {
   "cell_type": "code",
   "execution_count": null,
   "metadata": {
    "collapsed": true,
    "id": "q0aM6V9BY6dv"
   },
   "outputs": [],
   "source": [
    "q = \"Which countries had more houses damaged? Give me the top 3\"\n",
    "agent.invoke(x)"
   ]
  },
  {
   "cell_type": "code",
   "execution_count": null,
   "metadata": {
    "collapsed": true,
    "id": "d5oWeXVzZG1z"
   },
   "outputs": [],
   "source": [
    "agent_memory"
   ]
  },
  {
   "cell_type": "code",
   "execution_count": null,
   "metadata": {
    "collapsed": true,
    "id": "JlSyWZzTbnbG"
   },
   "outputs": [],
   "source": [
    "q = \"Of those countries, which one had more deaths?\"\n",
    "agent.invoke(q)"
   ]
  }
 ],
 "metadata": {
  "colab": {
   "provenance": []
  },
  "kernelspec": {
   "display_name": "Python 3",
   "name": "python3"
  },
  "language_info": {
   "codemirror_mode": {
    "name": "ipython",
    "version": 3
   },
   "file_extension": ".py",
   "mimetype": "text/x-python",
   "name": "python",
   "nbconvert_exporter": "python",
   "pygments_lexer": "ipython3",
   "version": "3.11.5"
  }
 },
 "nbformat": 4,
 "nbformat_minor": 0
}
